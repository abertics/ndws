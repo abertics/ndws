{
 "cells": [
  {
   "cell_type": "code",
   "execution_count": 16,
   "id": "1de69b55-bb83-4874-a91d-758b6b99d160",
   "metadata": {},
   "outputs": [
    {
     "data": {
      "text/html": [
       "\n",
       "            <style>\n",
       "                .geemap-dark {\n",
       "                    --jp-widgets-color: white;\n",
       "                    --jp-widgets-label-color: white;\n",
       "                    --jp-ui-font-color1: white;\n",
       "                    --jp-layout-color2: #454545;\n",
       "                    background-color: #383838;\n",
       "                }\n",
       "\n",
       "                .geemap-dark .jupyter-button {\n",
       "                    --jp-layout-color3: #383838;\n",
       "                }\n",
       "\n",
       "                .geemap-colab {\n",
       "                    background-color: var(--colab-primary-surface-color, white);\n",
       "                }\n",
       "\n",
       "                .geemap-colab .jupyter-button {\n",
       "                    --jp-layout-color3: var(--colab-primary-surface-color, white);\n",
       "                }\n",
       "            </style>\n",
       "            "
      ],
      "text/plain": [
       "<IPython.core.display.HTML object>"
      ]
     },
     "metadata": {},
     "output_type": "display_data"
    }
   ],
   "source": [
    "import torch\n",
    "from tfrecord.torch.dataset import MultiTFRecordDataset\n",
    "import matplotlib.pyplot as plt\n",
    "import pandas as pd\n",
    "\n",
    "import torch.nn.functional as F\n",
    "import torch.nn as nn\n",
    "\n",
    "import torch.optim as optim\n",
    "from tqdm import tqdm\n",
    "import copy\n",
    "\n",
    "from utils import load\n",
    "from attrdict import AttrDict\n",
    "import json"
   ]
  },
  {
   "cell_type": "markdown",
   "id": "bdaa42bc-a095-4206-aab1-5a757903298b",
   "metadata": {},
   "source": [
    "### Load dataset and metadata"
   ]
  },
  {
   "cell_type": "code",
   "execution_count": 57,
   "id": "f97b7031-0c1e-4627-b966-f861aa69656a",
   "metadata": {},
   "outputs": [],
   "source": [
    "lf_meta = pd.read_csv('fuel_autoencoder_conus/landfire_metadata.csv')\n",
    "lf_meta.drop(index = 0,inplace= True)\n",
    "\n",
    "landfire_fuel_classes = dict(zip(lf_meta['VALUE'],lf_meta['FBFM40']))\n",
    "\n",
    "kys = list(landfire_fuel_classes.keys())\n",
    "fuel_classes = {i:landfire_fuel_classes[x] for i,x in enumerate(kys)}\n",
    "fuel_class_map = {x:i for i,x in enumerate(kys)}"
   ]
  },
  {
   "cell_type": "code",
   "execution_count": 58,
   "id": "1b54ffaf-b9c2-441f-8f08-a0c13a65976c",
   "metadata": {},
   "outputs": [],
   "source": [
    "viz = {row['FBFM40']:(row['R'],row['G'],row['B']) for i,row in lf_meta.iterrows()}"
   ]
  },
  {
   "cell_type": "code",
   "execution_count": 59,
   "id": "aa56005f-2134-4e1b-86e5-dc98744c7042",
   "metadata": {},
   "outputs": [
    {
     "name": "stdout",
     "output_type": "stream",
     "text": [
      "train\n",
      "test\n",
      "val\n"
     ]
    }
   ],
   "source": [
    "modes = ['train','test','val']\n",
    "tf_patterns = {\n",
    "    'train':('conus_dataset/fbfm_conus_train{}.tfrecord','conus_dataset/fbfm_conus_train{}.tfindex'),\n",
    "    'test':('conus_dataset/fbfm_conus_test{}.tfrecord','conus_dataset/fbfm_conus_test{}.tfindex'),\n",
    "    'val':('conus_dataset/fbfm_conus_val{}.tfrecord','conus_dataset/fbfm_conus_val{}.tfindex'),\n",
    "}\n",
    "data_loaders = {}\n",
    "for mode in modes:\n",
    "    print(\"Loading\",mode,\"data\")\n",
    "    tfrecord_pattern = tf_patterns[mode][0]\n",
    "    index_pattern = tf_patterns[mode][1]\n",
    "    description = {\"fbfm\": \"float\"}\n",
    "    unsplit = {'0':0.5,'1':0.5}\n",
    "    dataset = MultiTFRecordDataset(tfrecord_pattern, index_pattern,unsplit, description,infinite = False)\n",
    "    loader = torch.utils.data.DataLoader(dataset, batch_size=2048)\n",
    "    data_loaders[mode] = loader"
   ]
  },
  {
   "cell_type": "markdown",
   "id": "ae14048b-e24c-44f3-8a86-223fb976f6f6",
   "metadata": {},
   "source": [
    "### data processing funcs"
   ]
  },
  {
   "cell_type": "code",
   "execution_count": 60,
   "id": "261d91f5-eef3-490a-9983-869a582b9145",
   "metadata": {},
   "outputs": [],
   "source": [
    "def replace_categories(value):\n",
    "    try:\n",
    "        return fuel_class_map[value]\n",
    "    except KeyError:\n",
    "        return float('nan')\n",
    "\n",
    "def get_pcts(arr): # takes (B,H,W) array\n",
    "    B,H,W = arr.shape\n",
    "    n_cats = len(kys)\n",
    "    res = torch.zeros((B,n_cats))\n",
    "    for i,img in enumerate(arr):\n",
    "        for k,cat in enumerate(kys):\n",
    "            res[i,k] = torch.sum(arr[i] == cat).item()/(H*W)\n",
    "    return res\n",
    "\n",
    "def process_batch(data_batch,onehot = False):\n",
    "    data = data_batch['fbfm'].clone()\n",
    "    data = data.reshape((data.shape[0],16,16))\n",
    "    labels = get_pcts(data)\n",
    "    data.apply_(replace_categories)\n",
    "    if onehot:\n",
    "        data = F.one_hot(data.long(),num_classes = len(kys)).float()\n",
    "    return data,labels"
   ]
  },
  {
   "cell_type": "markdown",
   "id": "2f4f30fe-1086-4934-b150-94c46ef37099",
   "metadata": {},
   "source": [
    "### Training loop"
   ]
  },
  {
   "cell_type": "code",
   "execution_count": 24,
   "id": "8fb60ec5-0aac-4ee2-83f8-95470f74560d",
   "metadata": {},
   "outputs": [
    {
     "data": {
      "text/html": [
       "\n",
       "            <style>\n",
       "                .geemap-dark {\n",
       "                    --jp-widgets-color: white;\n",
       "                    --jp-widgets-label-color: white;\n",
       "                    --jp-ui-font-color1: white;\n",
       "                    --jp-layout-color2: #454545;\n",
       "                    background-color: #383838;\n",
       "                }\n",
       "\n",
       "                .geemap-dark .jupyter-button {\n",
       "                    --jp-layout-color3: #383838;\n",
       "                }\n",
       "\n",
       "                .geemap-colab {\n",
       "                    background-color: var(--colab-primary-surface-color, white);\n",
       "                }\n",
       "\n",
       "                .geemap-colab .jupyter-button {\n",
       "                    --jp-layout-color3: var(--colab-primary-surface-color, white);\n",
       "                }\n",
       "            </style>\n",
       "            "
      ],
      "text/plain": [
       "<IPython.core.display.HTML object>"
      ]
     },
     "metadata": {},
     "output_type": "display_data"
    }
   ],
   "source": [
    "run_name = 'example'"
   ]
  },
  {
   "cell_type": "markdown",
   "id": "c1a33718-88b5-42a5-b44e-8215e8f29a56",
   "metadata": {},
   "source": [
    "#### Define and load the model from its configuration file"
   ]
  },
  {
   "cell_type": "code",
   "execution_count": 25,
   "id": "45b92fbb-ad19-463f-a8b1-2d37fb5eaacf",
   "metadata": {},
   "outputs": [
    {
     "data": {
      "text/html": [
       "\n",
       "            <style>\n",
       "                .geemap-dark {\n",
       "                    --jp-widgets-color: white;\n",
       "                    --jp-widgets-label-color: white;\n",
       "                    --jp-ui-font-color1: white;\n",
       "                    --jp-layout-color2: #454545;\n",
       "                    background-color: #383838;\n",
       "                }\n",
       "\n",
       "                .geemap-dark .jupyter-button {\n",
       "                    --jp-layout-color3: #383838;\n",
       "                }\n",
       "\n",
       "                .geemap-colab {\n",
       "                    background-color: var(--colab-primary-surface-color, white);\n",
       "                }\n",
       "\n",
       "                .geemap-colab .jupyter-button {\n",
       "                    --jp-layout-color3: var(--colab-primary-surface-color, white);\n",
       "                }\n",
       "            </style>\n",
       "            "
      ],
      "text/plain": [
       "<IPython.core.display.HTML object>"
      ]
     },
     "metadata": {},
     "output_type": "display_data"
    },
    {
     "name": "stdout",
     "output_type": "stream",
     "text": [
      "Loading 'fuel_autoencoder_config' from /Users/gorg/Documents/ndws/fuel_embedding/fuel_autoencoder_config.py\n"
     ]
    }
   ],
   "source": [
    "config = AttrDict({\n",
    "    \"conv_channels\":[32,32, 32],\n",
    "    \"kernel_sizes\":[3, 3,3],\n",
    "    \"strides\":[1, 1,1],\n",
    "    \"paddings\":[1, 1,1],\n",
    "    \"pooling\":'max',\n",
    "    \"pool_kernels\":[2, 2,2],\n",
    "    \"encoder_hidden_dims\":[32,16,8],\n",
    "    \"latent_dim\":3,\n",
    "    \"decoder_hidden_dims\":[8,16,32],\n",
    "    \"weights_seed\":123,\n",
    "    \"learning_rate\":1e-4,\n",
    "    'n_epochs':15,\n",
    "})\n",
    "\n",
    "model_config_file = osp.join('fuel_autoencoder_config.py')\n",
    "autoencoder,name = load(model_config_file,config)\n",
    "\n",
    "with open(f'models/{run_name}.json','w') as json_file:\n",
    "    json.dump(config,json_file)"
   ]
  },
  {
   "cell_type": "code",
   "execution_count": 26,
   "id": "81acd458-6bea-40aa-9d7f-081d508d87e5",
   "metadata": {},
   "outputs": [
    {
     "data": {
      "text/html": [
       "\n",
       "            <style>\n",
       "                .geemap-dark {\n",
       "                    --jp-widgets-color: white;\n",
       "                    --jp-widgets-label-color: white;\n",
       "                    --jp-ui-font-color1: white;\n",
       "                    --jp-layout-color2: #454545;\n",
       "                    background-color: #383838;\n",
       "                }\n",
       "\n",
       "                .geemap-dark .jupyter-button {\n",
       "                    --jp-layout-color3: #383838;\n",
       "                }\n",
       "\n",
       "                .geemap-colab {\n",
       "                    background-color: var(--colab-primary-surface-color, white);\n",
       "                }\n",
       "\n",
       "                .geemap-colab .jupyter-button {\n",
       "                    --jp-layout-color3: var(--colab-primary-surface-color, white);\n",
       "                }\n",
       "            </style>\n",
       "            "
      ],
      "text/plain": [
       "<IPython.core.display.HTML object>"
      ]
     },
     "metadata": {},
     "output_type": "display_data"
    },
    {
     "data": {
      "text/plain": [
       "fuel_autoencoder(\n",
       "  (encoder): Encoder(\n",
       "    (activation): ReLU()\n",
       "    (conv_layers): ModuleList(\n",
       "      (0): Conv2d(45, 32, kernel_size=(3, 3), stride=(1, 1), padding=(1, 1))\n",
       "      (1-2): 2 x Conv2d(32, 32, kernel_size=(3, 3), stride=(1, 1), padding=(1, 1))\n",
       "    )\n",
       "    (pool_layers): ModuleList(\n",
       "      (0-2): 3 x MaxPool2d(kernel_size=2, stride=2, padding=0, dilation=1, ceil_mode=False)\n",
       "    )\n",
       "    (fc_layers): ModuleList(\n",
       "      (0): Linear(in_features=128, out_features=32, bias=True)\n",
       "      (1): Linear(in_features=32, out_features=16, bias=True)\n",
       "      (2): Linear(in_features=16, out_features=8, bias=True)\n",
       "      (3): Linear(in_features=8, out_features=3, bias=True)\n",
       "    )\n",
       "    (fc_batch_norms): ModuleList(\n",
       "      (0): BatchNorm1d(32, eps=1e-05, momentum=0.1, affine=True, track_running_stats=True)\n",
       "      (1): BatchNorm1d(16, eps=1e-05, momentum=0.1, affine=True, track_running_stats=True)\n",
       "      (2): BatchNorm1d(8, eps=1e-05, momentum=0.1, affine=True, track_running_stats=True)\n",
       "    )\n",
       "  )\n",
       "  (decoder): Decoder(\n",
       "    (activation): ReLU()\n",
       "    (fc_layers): ModuleList(\n",
       "      (0): Linear(in_features=3, out_features=8, bias=True)\n",
       "      (1): Linear(in_features=8, out_features=16, bias=True)\n",
       "      (2): Linear(in_features=16, out_features=32, bias=True)\n",
       "      (3): Linear(in_features=32, out_features=45, bias=True)\n",
       "    )\n",
       "    (fc_batch_norms): ModuleList(\n",
       "      (0): BatchNorm1d(8, eps=1e-05, momentum=0.1, affine=True, track_running_stats=True)\n",
       "      (1): BatchNorm1d(16, eps=1e-05, momentum=0.1, affine=True, track_running_stats=True)\n",
       "      (2): BatchNorm1d(32, eps=1e-05, momentum=0.1, affine=True, track_running_stats=True)\n",
       "    )\n",
       "  )\n",
       ")"
      ]
     },
     "execution_count": 26,
     "metadata": {},
     "output_type": "execute_result"
    }
   ],
   "source": [
    "autoencoder"
   ]
  },
  {
   "cell_type": "markdown",
   "id": "a547d0e8-0d52-4bee-b0fa-22a0a229adbe",
   "metadata": {},
   "source": [
    "### Model training"
   ]
  },
  {
   "cell_type": "code",
   "execution_count": 88,
   "id": "21b864e4-9932-4674-847d-a77f4fd4cc11",
   "metadata": {},
   "outputs": [
    {
     "name": "stdout",
     "output_type": "stream",
     "text": [
      "Epoch 1/15\n",
      "----------\n"
     ]
    },
    {
     "name": "stderr",
     "output_type": "stream",
     "text": [
      "Train Epoch 1: : 1686batch [39:15,  1.40s/batch, loss=3.08] \n"
     ]
    },
    {
     "name": "stdout",
     "output_type": "stream",
     "text": [
      "Train Loss: 4.9810\n"
     ]
    },
    {
     "name": "stderr",
     "output_type": "stream",
     "text": [
      "Val Epoch 1: : 505batch [11:23,  1.35s/batch, loss=0.893]\n"
     ]
    },
    {
     "name": "stdout",
     "output_type": "stream",
     "text": [
      "Val Loss: 1.0495\n",
      "Epoch 2/15\n",
      "----------\n"
     ]
    },
    {
     "name": "stderr",
     "output_type": "stream",
     "text": [
      "Train Epoch 2: : 1686batch [38:32,  1.37s/batch, loss=2.85] \n"
     ]
    },
    {
     "name": "stdout",
     "output_type": "stream",
     "text": [
      "Train Loss: 2.8075\n"
     ]
    },
    {
     "name": "stderr",
     "output_type": "stream",
     "text": [
      "Val Epoch 2: : 505batch [11:25,  1.36s/batch, loss=0.793]\n"
     ]
    },
    {
     "name": "stdout",
     "output_type": "stream",
     "text": [
      "Val Loss: 0.9351\n",
      "Epoch 3/15\n",
      "----------\n"
     ]
    },
    {
     "name": "stderr",
     "output_type": "stream",
     "text": [
      "Train Epoch 3: : 1686batch [38:32,  1.37s/batch, loss=2.27] \n"
     ]
    },
    {
     "name": "stdout",
     "output_type": "stream",
     "text": [
      "Train Loss: 2.2137\n"
     ]
    },
    {
     "name": "stderr",
     "output_type": "stream",
     "text": [
      "Val Epoch 3: : 505batch [11:28,  1.36s/batch, loss=0.745]\n"
     ]
    },
    {
     "name": "stdout",
     "output_type": "stream",
     "text": [
      "Val Loss: 0.8504\n",
      "Epoch 4/15\n",
      "----------\n"
     ]
    },
    {
     "name": "stderr",
     "output_type": "stream",
     "text": [
      "Train Epoch 4: : 1686batch [38:55,  1.39s/batch, loss=2.57] \n"
     ]
    },
    {
     "name": "stdout",
     "output_type": "stream",
     "text": [
      "Train Loss: 1.9244\n"
     ]
    },
    {
     "name": "stderr",
     "output_type": "stream",
     "text": [
      "Val Epoch 4: : 505batch [11:31,  1.37s/batch, loss=0.719]\n"
     ]
    },
    {
     "name": "stdout",
     "output_type": "stream",
     "text": [
      "Val Loss: 0.8289\n",
      "Epoch 5/15\n",
      "----------\n"
     ]
    },
    {
     "name": "stderr",
     "output_type": "stream",
     "text": [
      "Train Epoch 5: : 1686batch [38:49,  1.38s/batch, loss=2.79] \n"
     ]
    },
    {
     "name": "stdout",
     "output_type": "stream",
     "text": [
      "Train Loss: 1.7197\n"
     ]
    },
    {
     "name": "stderr",
     "output_type": "stream",
     "text": [
      "Val Epoch 5: : 505batch [11:25,  1.36s/batch, loss=0.769]\n"
     ]
    },
    {
     "name": "stdout",
     "output_type": "stream",
     "text": [
      "Val Loss: 0.8974\n",
      "Epoch 6/15\n",
      "----------\n"
     ]
    },
    {
     "name": "stderr",
     "output_type": "stream",
     "text": [
      "Train Epoch 6: : 1686batch [38:28,  1.37s/batch, loss=3.18] \n"
     ]
    },
    {
     "name": "stdout",
     "output_type": "stream",
     "text": [
      "Train Loss: 1.8283\n"
     ]
    },
    {
     "name": "stderr",
     "output_type": "stream",
     "text": [
      "Val Epoch 6: : 505batch [11:23,  1.35s/batch, loss=0.863]\n"
     ]
    },
    {
     "name": "stdout",
     "output_type": "stream",
     "text": [
      "Val Loss: 0.9703\n",
      "Epoch 7/15\n",
      "----------\n"
     ]
    },
    {
     "name": "stderr",
     "output_type": "stream",
     "text": [
      "Train Epoch 7: : 1686batch [39:12,  1.40s/batch, loss=1.45] \n"
     ]
    },
    {
     "name": "stdout",
     "output_type": "stream",
     "text": [
      "Train Loss: 1.9596\n"
     ]
    },
    {
     "name": "stderr",
     "output_type": "stream",
     "text": [
      "Val Epoch 7: : 505batch [11:30,  1.37s/batch, loss=0.671]\n"
     ]
    },
    {
     "name": "stdout",
     "output_type": "stream",
     "text": [
      "Val Loss: 0.7571\n",
      "Epoch 8/15\n",
      "----------\n"
     ]
    },
    {
     "name": "stderr",
     "output_type": "stream",
     "text": [
      "Train Epoch 8: : 1686batch [38:23,  1.37s/batch, loss=2.01] \n"
     ]
    },
    {
     "name": "stdout",
     "output_type": "stream",
     "text": [
      "Train Loss: 1.6737\n"
     ]
    },
    {
     "name": "stderr",
     "output_type": "stream",
     "text": [
      "Val Epoch 8: : 505batch [11:29,  1.37s/batch, loss=0.601]\n"
     ]
    },
    {
     "name": "stdout",
     "output_type": "stream",
     "text": [
      "Val Loss: 0.6928\n",
      "Epoch 9/15\n",
      "----------\n"
     ]
    },
    {
     "name": "stderr",
     "output_type": "stream",
     "text": [
      "Train Epoch 9: : 1686batch [39:26,  1.40s/batch, loss=1.59] \n"
     ]
    },
    {
     "name": "stdout",
     "output_type": "stream",
     "text": [
      "Train Loss: 1.5487\n"
     ]
    },
    {
     "name": "stderr",
     "output_type": "stream",
     "text": [
      "Val Epoch 9: : 505batch [11:25,  1.36s/batch, loss=0.743]\n"
     ]
    },
    {
     "name": "stdout",
     "output_type": "stream",
     "text": [
      "Val Loss: 0.8326\n",
      "Epoch 10/15\n",
      "----------\n"
     ]
    },
    {
     "name": "stderr",
     "output_type": "stream",
     "text": [
      "Train Epoch 10: : 1686batch [38:34,  1.37s/batch, loss=3.2]  \n"
     ]
    },
    {
     "name": "stdout",
     "output_type": "stream",
     "text": [
      "Train Loss: 1.5335\n"
     ]
    },
    {
     "name": "stderr",
     "output_type": "stream",
     "text": [
      "Val Epoch 10: : 505batch [11:21,  1.35s/batch, loss=0.622]\n"
     ]
    },
    {
     "name": "stdout",
     "output_type": "stream",
     "text": [
      "Val Loss: 0.7250\n",
      "Epoch 11/15\n",
      "----------\n"
     ]
    },
    {
     "name": "stderr",
     "output_type": "stream",
     "text": [
      "Train Epoch 11: : 1686batch [38:25,  1.37s/batch, loss=3.52] \n"
     ]
    },
    {
     "name": "stdout",
     "output_type": "stream",
     "text": [
      "Train Loss: 1.4702\n"
     ]
    },
    {
     "name": "stderr",
     "output_type": "stream",
     "text": [
      "Val Epoch 11: : 505batch [11:24,  1.35s/batch, loss=0.616]\n"
     ]
    },
    {
     "name": "stdout",
     "output_type": "stream",
     "text": [
      "Val Loss: 0.6884\n",
      "Epoch 12/15\n",
      "----------\n"
     ]
    },
    {
     "name": "stderr",
     "output_type": "stream",
     "text": [
      "Train Epoch 12: : 1686batch [38:23,  1.37s/batch, loss=2.14] \n"
     ]
    },
    {
     "name": "stdout",
     "output_type": "stream",
     "text": [
      "Train Loss: 1.4242\n"
     ]
    },
    {
     "name": "stderr",
     "output_type": "stream",
     "text": [
      "Val Epoch 12: : 505batch [11:24,  1.36s/batch, loss=0.556]\n"
     ]
    },
    {
     "name": "stdout",
     "output_type": "stream",
     "text": [
      "Val Loss: 0.6768\n",
      "Epoch 13/15\n",
      "----------\n"
     ]
    },
    {
     "name": "stderr",
     "output_type": "stream",
     "text": [
      "Train Epoch 13: : 1686batch [38:29,  1.37s/batch, loss=3.47] \n"
     ]
    },
    {
     "name": "stdout",
     "output_type": "stream",
     "text": [
      "Train Loss: 1.3682\n"
     ]
    },
    {
     "name": "stderr",
     "output_type": "stream",
     "text": [
      "Val Epoch 13: : 505batch [11:24,  1.35s/batch, loss=0.803]\n"
     ]
    },
    {
     "name": "stdout",
     "output_type": "stream",
     "text": [
      "Val Loss: 0.8734\n",
      "Epoch 14/15\n",
      "----------\n"
     ]
    },
    {
     "name": "stderr",
     "output_type": "stream",
     "text": [
      "Train Epoch 14: : 1686batch [38:24,  1.37s/batch, loss=3.66] \n"
     ]
    },
    {
     "name": "stdout",
     "output_type": "stream",
     "text": [
      "Train Loss: 1.4195\n"
     ]
    },
    {
     "name": "stderr",
     "output_type": "stream",
     "text": [
      "Val Epoch 14: : 505batch [11:23,  1.35s/batch, loss=0.614]\n"
     ]
    },
    {
     "name": "stdout",
     "output_type": "stream",
     "text": [
      "Val Loss: 0.6725\n",
      "Epoch 15/15\n",
      "----------\n"
     ]
    },
    {
     "name": "stderr",
     "output_type": "stream",
     "text": [
      "Train Epoch 15: : 1686batch [38:24,  1.37s/batch, loss=2.56] \n"
     ]
    },
    {
     "name": "stdout",
     "output_type": "stream",
     "text": [
      "Train Loss: 1.3577\n"
     ]
    },
    {
     "name": "stderr",
     "output_type": "stream",
     "text": [
      "Val Epoch 15: : 505batch [11:20,  1.35s/batch, loss=0.56] "
     ]
    },
    {
     "name": "stdout",
     "output_type": "stream",
     "text": [
      "Val Loss: 0.6509\n",
      "Training complete\n",
      "Best Validation Loss: 0.6509\n"
     ]
    },
    {
     "name": "stderr",
     "output_type": "stream",
     "text": [
      "\n"
     ]
    },
    {
     "data": {
      "text/plain": [
       "<All keys matched successfully>"
      ]
     },
     "execution_count": 88,
     "metadata": {},
     "output_type": "execute_result"
    }
   ],
   "source": [
    "# Define the optimizer\n",
    "# autoencoder.load_state_dict(best_model_wts)\n",
    "\n",
    "optimizer = optim.AdamW(autoencoder.parameters(), lr=config['learning_rate'])\n",
    "\n",
    "# Define the loss function\n",
    "criterion = nn.KLDivLoss(reduction='batchmean')\n",
    "\n",
    "train_losses = []\n",
    "val_losses = []\n",
    "\n",
    "# Number of epochs\n",
    "num_epochs = config['n_epochs']\n",
    "\n",
    "# Device configuration\n",
    "device = torch.device('mps')\n",
    "autoencoder.to(device)\n",
    "\n",
    "best_model_wts = copy.deepcopy(autoencoder.state_dict())\n",
    "best_loss = float('inf')\n",
    "\n",
    "for epoch in range(num_epochs):\n",
    "    print(f'Epoch {epoch+1}/{num_epochs}')\n",
    "    print('-' * 10)\n",
    "\n",
    "    # Each epoch has a training and validation phase\n",
    "    for phase in ['train', 'val']:\n",
    "        if phase == 'train':\n",
    "            autoencoder.train()  # Set model to training mode\n",
    "        else:\n",
    "            autoencoder.eval()   # Set model to evaluate mode\n",
    "\n",
    "        running_loss = 0.0\n",
    "\n",
    "        # Iterate over data\n",
    "        with tqdm(data_loaders[phase], unit=\"batch\") as tepoch:\n",
    "            for batch in tepoch:\n",
    "                tepoch.set_description(f\"{phase.capitalize()} Epoch {epoch+1}\")\n",
    "\n",
    "                inputs,targets = process_batch(batch,onehot = True)\n",
    "                \n",
    "                inputs = inputs.to(device)  # Shape: (B, 16, 16, 45)\n",
    "                targets = targets.to(device)  # Shape: (B, 45)\n",
    "\n",
    "                # Zero the parameter gradients\n",
    "                optimizer.zero_grad()\n",
    "\n",
    "                # Forward pass\n",
    "                with torch.set_grad_enabled(phase == 'train'):\n",
    "                    outputs = autoencoder(inputs)  # Shape: (B, 45)\n",
    "\n",
    "                    # Apply log_softmax to outputs\n",
    "                    log_probs = F.log_softmax(outputs, dim=-1)\n",
    "\n",
    "                    # Compute loss\n",
    "                    loss = criterion(log_probs, targets)\n",
    "\n",
    "                    # Backward pass and optimization\n",
    "                    if phase == 'train':\n",
    "                        loss.backward()\n",
    "                        optimizer.step()\n",
    "\n",
    "                # Statistics\n",
    "                running_loss += loss.item() * inputs.size(0)\n",
    "                tepoch.set_postfix(loss=loss.item())\n",
    "\n",
    "        epoch_loss = running_loss / 911360 # batch 2048 * 445 batches = 911360 \n",
    "\n",
    "        if phase == 'train':\n",
    "            train_losses.append(epoch_loss)\n",
    "        else:\n",
    "            val_losses.append(epoch_loss)\n",
    "\n",
    "            # Deep copy the model if it has better validation loss\n",
    "            if epoch_loss < best_loss:\n",
    "                best_loss = epoch_loss\n",
    "                best_model_wts = copy.deepcopy(autoencoder.state_dict())\n",
    "\n",
    "        print(f'{phase.capitalize()} Loss: {epoch_loss:.4f}')\n",
    "\n",
    "print('Training complete')\n",
    "print(f'Best Validation Loss: {best_loss:.4f}')\n",
    "\n",
    "# Load best model weights\n",
    "autoencoder.load_state_dict(best_model_wts)"
   ]
  },
  {
   "cell_type": "code",
   "execution_count": 89,
   "id": "2ba33c93-5e2b-4303-b6f7-515e8f924041",
   "metadata": {},
   "outputs": [],
   "source": [
    "torch.save(best_model_wts,f'models/{run_name}.pth')"
   ]
  },
  {
   "cell_type": "code",
   "execution_count": 92,
   "id": "9e7316c4-7b7c-43dc-b3db-e7ffc6636397",
   "metadata": {},
   "outputs": [
    {
     "data": {
      "image/png": "[encoded data removed]",
      "text/plain": [
       "<Figure size 640x480 with 1 Axes>"
      ]
     },
     "metadata": {},
     "output_type": "display_data"
    }
   ],
   "source": [
    "plt.plot(train_losses,label = 'train')\n",
    "plt.plot(val_losses,label = 'test')\n",
    "plt.ylabel('loss')\n",
    "plt.xlabel('epoch')\n",
    "plt.yscale('log')"
   ]
  },
  {
   "cell_type": "code",
   "execution_count": null,
   "id": "a890ce27-020f-45ad-a194-b0fd5bd5bbdb",
   "metadata": {},
   "outputs": [],
   "source": []
  }
 ],
 "metadata": {
  "kernelspec": {
   "display_name": "Python 3 (ipykernel)",
   "language": "python",
   "name": "python3"
  }
 },
 "nbformat": 4,
 "nbformat_minor": 5
}
