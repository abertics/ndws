{
 "cells": [
  {
   "cell_type": "code",
   "execution_count": 1,
   "id": "c9da2899-6b99-4de2-81b2-512adb191bdb",
   "metadata": {},
   "outputs": [
    {
     "name": "stderr",
     "output_type": "stream",
     "text": [
      "*** Earth Engine *** Share your feedback by taking our Annual Developer Satisfaction Survey: https://google.qualtrics.com/jfe/form/SV_0JLhFqfSY1uiEaW?source=Init\n"
     ]
    }
   ],
   "source": [
    "import ee\n",
    "import geemap\n",
    "import random\n",
    "import os\n",
    "import json\n",
    "\n",
    "import matplotlib.pyplot as plt\n",
    "    \n",
    "# Trigger the authentication flow.\n",
    "ee.Authenticate()\n",
    "\n",
    "# Initialize the library. Replace with your relevant project title\n",
    "ee.Initialize(project = os.environ.get(\"PROJECT_NAME\"))\n",
    "\n",
    "import ee_export_utils # library of functions\n",
    "import ee_utils\n",
    "\n",
    "random.seed(123)"
   ]
  },
  {
   "cell_type": "code",
   "execution_count": 2,
   "id": "28da310c-650a-496d-bdd9-93f7f94de84d",
   "metadata": {},
   "outputs": [
    {
     "data": {
      "text/html": [
       "\n",
       "            <style>\n",
       "                .geemap-dark {\n",
       "                    --jp-widgets-color: white;\n",
       "                    --jp-widgets-label-color: white;\n",
       "                    --jp-ui-font-color1: white;\n",
       "                    --jp-layout-color2: #454545;\n",
       "                    background-color: #383838;\n",
       "                }\n",
       "\n",
       "                .geemap-dark .jupyter-button {\n",
       "                    --jp-layout-color3: #383838;\n",
       "                }\n",
       "\n",
       "                .geemap-colab {\n",
       "                    background-color: var(--colab-primary-surface-color, white);\n",
       "                }\n",
       "\n",
       "                .geemap-colab .jupyter-button {\n",
       "                    --jp-layout-color3: var(--colab-primary-surface-color, white);\n",
       "                }\n",
       "            </style>\n",
       "            "
      ],
      "text/plain": [
       "<IPython.core.display.HTML object>"
      ]
     },
     "metadata": {},
     "output_type": "display_data"
    }
   ],
   "source": [
    "def _get_all_image_collections(viirs_info = None):\n",
    "    \"\"\"Gets all the image collections and corresponding time sampling.\"\"\"\n",
    "    image_collections = {\n",
    "      'drought':\n",
    "          ee_utils.get_image_collection(ee_utils.DataType.DROUGHT_GRIDMET),\n",
    "      'vegetation':\n",
    "          ee_utils.get_image_collection(ee_utils.DataType.VEGETATION_VIIRS),\n",
    "      'weather_gridmet':\n",
    "          ee_utils.get_image_collection(ee_utils.DataType.WEATHER_GRIDMET),\n",
    "      'weather_rtma':\n",
    "          ee_utils.get_image_collection(ee_utils.DataType.WEATHER_RTMA),\n",
    "      # 'modis_fire':\n",
    "      #     ee_utils.get_image_collection(ee_utils.DataType.FIRE_MODIS),\n",
    "      'viirs_fire':\n",
    "          ee_utils.get_image_collection(ee_utils.DataType.FIRE_VIIRS),\n",
    "    }\n",
    "    time_sampling = {\n",
    "      'drought':\n",
    "          ee_utils.DATA_TIME_SAMPLING[ee_utils.DataType.DROUGHT_GRIDMET],\n",
    "      'vegetation':\n",
    "          ee_utils.DATA_TIME_SAMPLING[ee_utils.DataType.VEGETATION_VIIRS],\n",
    "      'weather_gridmet':\n",
    "          ee_utils.DATA_TIME_SAMPLING[ee_utils.DataType.WEATHER_GRIDMET],\n",
    "      'weather_rtma':\n",
    "          ee_utils.DATA_TIME_SAMPLING[ee_utils.DataType.WEATHER_RTMA],\n",
    "      # 'modis_fire':\n",
    "      #     ee_utils.DATA_TIME_SAMPLING[ee_utils.DataType.FIRE_MODIS],\n",
    "      'viirs_fire':\n",
    "          ee_utils.DATA_TIME_SAMPLING[ee_utils.DataType.FIRE_VIIRS],\n",
    "    }\n",
    "    return image_collections, time_sampling\n",
    "\n",
    "def _verify_feature_collection(\n",
    "    feature_collection\n",
    "    ):\n",
    "    \"\"\"Verifies the feature collection is valid.\n",
    "    \n",
    "    If the feature collection is invalid, resets the feature collection.\n",
    "    \n",
    "    Args:\n",
    "    feature_collection: An EE feature collection.\n",
    "    \n",
    "    Returns:\n",
    "    `(feature_collection, size)` a tuple of the verified feature collection and\n",
    "    its size.\n",
    "    \"\"\"\n",
    "    try:\n",
    "        size = int(feature_collection.size().getInfo())\n",
    "        \n",
    "        # print(\"Verified a feature collection of size\",size) # debugging\n",
    "        \n",
    "    except ee.EEException:\n",
    "        # print('EE exception thrown, resetting') # debugging\n",
    "        \n",
    "        # Reset the feature collection\n",
    "        feature_collection = ee.FeatureCollection([])\n",
    "        size = 0\n",
    "    \n",
    "    return feature_collection, size"
   ]
  },
  {
   "cell_type": "markdown",
   "id": "08d12f32-6aad-486e-9555-ee4a02846413",
   "metadata": {},
   "source": [
    "#### Get time slices and create custom aggregated features"
   ]
  },
  {
   "cell_type": "code",
   "execution_count": 4,
   "id": "776806b5-8dad-415a-b68d-5b3b6ee705e6",
   "metadata": {},
   "outputs": [
    {
     "data": {
      "text/html": [
       "\n",
       "            <style>\n",
       "                .geemap-dark {\n",
       "                    --jp-widgets-color: white;\n",
       "                    --jp-widgets-label-color: white;\n",
       "                    --jp-ui-font-color1: white;\n",
       "                    --jp-layout-color2: #454545;\n",
       "                    background-color: #383838;\n",
       "                }\n",
       "\n",
       "                .geemap-dark .jupyter-button {\n",
       "                    --jp-layout-color3: #383838;\n",
       "                }\n",
       "\n",
       "                .geemap-colab {\n",
       "                    background-color: var(--colab-primary-surface-color, white);\n",
       "                }\n",
       "\n",
       "                .geemap-colab .jupyter-button {\n",
       "                    --jp-layout-color3: var(--colab-primary-surface-color, white);\n",
       "                }\n",
       "            </style>\n",
       "            "
      ],
      "text/plain": [
       "<IPython.core.display.HTML object>"
      ]
     },
     "metadata": {},
     "output_type": "display_data"
    }
   ],
   "source": [
    "def _get_time_slices(\n",
    "    window_start,\n",
    "    window = 1,\n",
    "    projection = ee.Projection('EPSG:4326'),  # Defer calling until called by test code\n",
    "    resampling_scale = 500, # units: meters\n",
    "    lag = 0,\n",
    "):\n",
    "    \"\"\"Extracts the time slice features.\n",
    "    \n",
    "    Args:\n",
    "    window_start: Start of the time window over which to extract data.\n",
    "    window: Length of the window (in days).\n",
    "    projection: projection to reproject all data into.\n",
    "    resampling_scale: length scale to resample data to.\n",
    "    lag: Number of days before the fire to extract the features.\n",
    "    \n",
    "    Returns:\n",
    "    A list of the extracted EE images.\n",
    "    \"\"\"\n",
    "    projection = projection.atScale(resampling_scale) # reprojection flow is a bit confusing\n",
    "    \n",
    "    window_end = window_start.advance(window, 'day')\n",
    "    viirs_info = (ee_utils.eeDate_to_string(window_start),ee_utils.eeDate_to_string(window_end)) \n",
    "\n",
    "    image_collections, time_sampling = _get_all_image_collections(viirs_info = viirs_info)\n",
    "\n",
    "    # aggregate out-of-the-box features\n",
    "    drought = image_collections['drought'].filterDate(\n",
    "      window_start.advance(-lag - time_sampling['drought'], 'day'),\n",
    "      window_start.advance(-lag, 'day')).median().reproject(\n",
    "        projection.atScale(ee_utils.RESAMPLING_SCALE[ee_utils.DataType.DROUGHT_GRIDMET])\n",
    "            ).resample('bicubic')\n",
    "    \n",
    "    vegetation = image_collections['vegetation'].filterDate(\n",
    "      window_start.advance(-lag - time_sampling['vegetation'], 'day'),\n",
    "      window_start.advance(\n",
    "          -lag, 'day')).median().unmask()#.reproject(projection).resample('bicubic')\n",
    "    \n",
    "    weather_gridmet = image_collections['weather_gridmet'].filterDate(\n",
    "      window_start.advance(-lag - time_sampling['weather_gridmet'], 'day'),\n",
    "      window_start.advance(-lag, 'day')).median().reproject(\n",
    "          projection.atScale(ee_utils.RESAMPLING_SCALE[ee_utils.DataType.WEATHER_GRIDMET])\n",
    "            ).resample('bicubic')\n",
    "\n",
    "    # Create bespoke weather features from hourly data\n",
    "    avg_humidity = image_collections['weather_rtma'].filterDate(\n",
    "      window_start.advance(-lag - time_sampling['weather_rtma'], 'day'),\n",
    "      window_start.advance(-lag, 'day')).select('SPFH').mean().reproject(\n",
    "          projection.atScale(ee_utils.RESAMPLING_SCALE[ee_utils.DataType.WEATHER_RTMA])\n",
    "            ).resample('bicubic').rename('avg_sph')\n",
    "\n",
    "    daytime_temp = image_collections['weather_rtma'].filterDate(\n",
    "        window_start.advance(-lag - time_sampling['weather_rtma'], 'day'),\n",
    "        window_start.advance(-lag, 'day')) \\\n",
    "        .select('TMP') \\\n",
    "        .filter(ee.Filter.calendarRange(16, 4, 'hour')) \\\n",
    "        .median() \\\n",
    "        .reproject(\n",
    "            projection.atScale(ee_utils.RESAMPLING_SCALE[ee_utils.DataType.WEATHER_RTMA])\n",
    "        ).resample('bicubic').rename('tmp_day')\n",
    "\n",
    "    q75_temp = image_collections['weather_rtma'].filterDate(\n",
    "        window_start.advance(-lag - time_sampling['weather_rtma'], 'day'),\n",
    "        window_start.advance(-lag, 'day')) \\\n",
    "        .select('TMP') \\\n",
    "        .reduce(ee.Reducer.percentile([75])) \\\n",
    "        .reproject(\n",
    "            projection.atScale(ee_utils.RESAMPLING_SCALE[ee_utils.DataType.WEATHER_RTMA])\n",
    "        ).resample('bicubic').rename('tmp_75')\n",
    "\n",
    "    median_gust = image_collections['weather_rtma'].filterDate(\n",
    "        window_start.advance(-lag - time_sampling['weather_rtma'], 'day'),\n",
    "        window_start.advance(-lag, 'day')) \\\n",
    "        .select('GUST') \\\n",
    "        .median() \\\n",
    "        .reproject(\n",
    "            projection.atScale(ee_utils.RESAMPLING_SCALE[ee_utils.DataType.WEATHER_RTMA])\n",
    "        ).resample('bicubic').rename('gust_med')\n",
    "\n",
    "    avg_wind = image_collections['weather_rtma'].filterDate(\n",
    "        window_start.advance(-lag - time_sampling['weather_rtma'], 'day'),\n",
    "        window_start.advance(-lag, 'day')) \\\n",
    "        .select('WIND') \\\n",
    "        .mean() \\\n",
    "        .reproject(\n",
    "            projection.atScale(ee_utils.RESAMPLING_SCALE[ee_utils.DataType.WEATHER_RTMA])\n",
    "        ).resample('bicubic').rename('wind_avg')\n",
    "\n",
    "    q75_wind = image_collections['weather_rtma'].filterDate(\n",
    "        window_start.advance(-lag - time_sampling['weather_rtma'], 'day'),\n",
    "        window_start.advance(-lag, 'day')) \\\n",
    "        .select('WIND') \\\n",
    "        .reduce(ee.Reducer.percentile([75])) \\\n",
    "        .reproject(\n",
    "            projection.atScale(ee_utils.RESAMPLING_SCALE[ee_utils.DataType.WEATHER_RTMA])\n",
    "        ).resample('bicubic').rename('wind_75')\n",
    "\n",
    "    weighted_wind_dir = image_collections['weather_rtma'].filterDate(\n",
    "        window_start.advance(-lag - time_sampling['weather_rtma'], 'day'),\n",
    "        window_start.advance(-lag, 'day')) \\\n",
    "        .select(['UGRD', 'VGRD', 'WIND']) \\\n",
    "        .map(lambda img: img.select('UGRD').addBands(img.select('WIND'))) \\\n",
    "        .reduce(ee.Reducer.mean().splitWeights()) \\\n",
    "        .addBands(\n",
    "            image_collections['weather_rtma'].filterDate(\n",
    "                window_start.advance(-lag - time_sampling['weather_rtma'], 'day'),\n",
    "                window_start.advance(-lag, 'day')) \\\n",
    "            .select(['UGRD', 'VGRD', 'WIND']) \\\n",
    "            .map(lambda img: img.select('VGRD').addBands(img.select('WIND'))) \\\n",
    "            .reduce(ee.Reducer.mean().splitWeights())\n",
    "        ) \\\n",
    "        .expression('atan2(b(\"mean_1\"), b(\"mean\"))') \\\n",
    "        .select([0]) \\\n",
    "        .reproject(\n",
    "            projection.atScale(ee_utils.RESAMPLING_SCALE[ee_utils.DataType.WEATHER_RTMA])\n",
    "        ).resample('bicubic').rename('wdir_wind')\n",
    "\n",
    "    weighted_gust_dir = image_collections['weather_rtma'].filterDate(\n",
    "        window_start.advance(-lag - time_sampling['weather_rtma'], 'day'),\n",
    "        window_start.advance(-lag, 'day')) \\\n",
    "        .select(['UGRD', 'VGRD', 'GUST']) \\\n",
    "        .map(lambda img: img.select('UGRD').addBands(img.select('GUST'))) \\\n",
    "        .reduce(ee.Reducer.mean().splitWeights()) \\\n",
    "        .addBands(\n",
    "            image_collections['weather_rtma'].filterDate(\n",
    "                window_start.advance(-lag - time_sampling['weather_rtma'], 'day'),\n",
    "                window_start.advance(-lag, 'day')) \\\n",
    "            .select(['UGRD', 'VGRD', 'GUST']) \\\n",
    "            .map(lambda img: img.select('VGRD').addBands(img.select('GUST'))) \\\n",
    "            .reduce(ee.Reducer.mean().splitWeights())\n",
    "        ) \\\n",
    "        .expression('atan2(b(\"mean_1\"), b(\"mean\"))') \\\n",
    "        .select([0]) \\\n",
    "        .reproject(\n",
    "            projection.atScale(ee_utils.RESAMPLING_SCALE[ee_utils.DataType.WEATHER_RTMA])\n",
    "        ).resample('bicubic').rename('wdir_gust')\n",
    "    \n",
    "    custom_weather_features = [\n",
    "        avg_humidity,\n",
    "        daytime_temp,\n",
    "        q75_temp,\n",
    "        median_gust,\n",
    "        avg_wind,\n",
    "        q75_wind,\n",
    "        weighted_wind_dir,\n",
    "        weighted_gust_dir\n",
    "    ]\n",
    "\n",
    "    # modis_prev_fire = image_collections['modis_fire'].filterDate(\n",
    "    #   window_start.advance(-lag - time_sampling['modis_fire'], 'day'),\n",
    "    #   window_start.advance(-lag, 'day')).map(\n",
    "    #       ee_utils.remove_mask).max().rename('modis_PrevFireMask')\n",
    "\n",
    "    viirs_prev_fire = image_collections['viirs_fire'].filterDate(\n",
    "      window_start.advance(-lag - time_sampling['viirs_fire'], 'day'),\n",
    "      window_start.advance(-lag, 'day')).map(\n",
    "          ee_utils.remove_mask).max().rename('viirs_PrevFireMask')\n",
    "    \n",
    "    # modis_fire = image_collections['modis_fire'].filterDate(window_start, window_end).map(\n",
    "    #   ee_utils.remove_mask).max().rename('modis_FireMask')\n",
    "\n",
    "    viirs_fire = image_collections['viirs_fire'].filterDate(window_start,window_end).map(\n",
    "      ee_utils.remove_mask).max().rename('viirs_FireMask')\n",
    "    \n",
    "    detection1 = viirs_prev_fire.rename('detection') # can use the MODIS data for detection, but have to subtract 6 from all measurements\n",
    "    detection2 = viirs_fire.rename('detection')\n",
    "    \n",
    "    final_slices = [vegetation, drought, weather_gridmet] + \\\n",
    "      custom_weather_features + \\\n",
    "    [viirs_prev_fire, viirs_fire, detection1, detection2]\n",
    "    \n",
    "    return final_slices"
   ]
  },
  {
   "cell_type": "markdown",
   "id": "e25d02c3-bb94-41ab-be06-53789e87cde5",
   "metadata": {},
   "source": [
    "### Define parameters and begin data export"
   ]
  },
  {
   "cell_type": "code",
   "execution_count": 2,
   "id": "83944aa9-d684-4287-84a5-abc1ea6fafb6",
   "metadata": {},
   "outputs": [
    {
     "data": {
      "text/html": [
       "\n",
       "            <style>\n",
       "                .geemap-dark {\n",
       "                    --jp-widgets-color: white;\n",
       "                    --jp-widgets-label-color: white;\n",
       "                    --jp-ui-font-color1: white;\n",
       "                    --jp-layout-color2: #454545;\n",
       "                    background-color: #383838;\n",
       "                }\n",
       "\n",
       "                .geemap-dark .jupyter-button {\n",
       "                    --jp-layout-color3: #383838;\n",
       "                }\n",
       "\n",
       "                .geemap-colab {\n",
       "                    background-color: var(--colab-primary-surface-color, white);\n",
       "                }\n",
       "\n",
       "                .geemap-colab .jupyter-button {\n",
       "                    --jp-layout-color3: var(--colab-primary-surface-color, white);\n",
       "                }\n",
       "            </style>\n",
       "            "
      ],
      "text/plain": [
       "<IPython.core.display.HTML object>"
      ]
     },
     "metadata": {},
     "output_type": "display_data"
    }
   ],
   "source": [
    "config = {\n",
    "    'bucket':'modified_ndws',\n",
    "    'folder':'ndws_west_conus_dataset',\n",
    "    'start_date':ee.Date('2015-01-01'),\n",
    "    'end_date':ee.Date('2023-12-31'),\n",
    "    'prefix':'ndws_west',\n",
    "    'kernel_size':64, # size of export images in pixels\n",
    "    'sampling_scale':500, # size of pixel in meters\n",
    "    'eval_split_ratio':0.2,\n",
    "    'num_samples_per_file':1000,\n",
    "    'coordinates':ee_utils.COORDINATES['US_WEST']\n",
    "}"
   ]
  },
  {
   "cell_type": "code",
   "execution_count": 3,
   "id": "08f404b6-285d-4de2-b247-5cb0903dcbbf",
   "metadata": {},
   "outputs": [
    {
     "data": {
      "text/html": [
       "\n",
       "            <style>\n",
       "                .geemap-dark {\n",
       "                    --jp-widgets-color: white;\n",
       "                    --jp-widgets-label-color: white;\n",
       "                    --jp-ui-font-color1: white;\n",
       "                    --jp-layout-color2: #454545;\n",
       "                    background-color: #383838;\n",
       "                }\n",
       "\n",
       "                .geemap-dark .jupyter-button {\n",
       "                    --jp-layout-color3: #383838;\n",
       "                }\n",
       "\n",
       "                .geemap-colab {\n",
       "                    background-color: var(--colab-primary-surface-color, white);\n",
       "                }\n",
       "\n",
       "                .geemap-colab .jupyter-button {\n",
       "                    --jp-layout-color3: var(--colab-primary-surface-color, white);\n",
       "                }\n",
       "            </style>\n",
       "            "
      ],
      "text/plain": [
       "<IPython.core.display.HTML object>"
      ]
     },
     "metadata": {},
     "output_type": "display_data"
    }
   ],
   "source": [
    "with open('ndws_conus_west.json','w') as json_file:\n",
    "    json.dump({x:str(config[x]) for x in config},json_file)"
   ]
  },
  {
   "cell_type": "code",
   "execution_count": 4,
   "id": "7bef1d80-60de-424e-9265-e6ba14fe7caf",
   "metadata": {},
   "outputs": [
    {
     "data": {
      "text/html": [
       "\n",
       "            <style>\n",
       "                .geemap-dark {\n",
       "                    --jp-widgets-color: white;\n",
       "                    --jp-widgets-label-color: white;\n",
       "                    --jp-ui-font-color1: white;\n",
       "                    --jp-layout-color2: #454545;\n",
       "                    background-color: #383838;\n",
       "                }\n",
       "\n",
       "                .geemap-dark .jupyter-button {\n",
       "                    --jp-layout-color3: #383838;\n",
       "                }\n",
       "\n",
       "                .geemap-colab {\n",
       "                    background-color: var(--colab-primary-surface-color, white);\n",
       "                }\n",
       "\n",
       "                .geemap-colab .jupyter-button {\n",
       "                    --jp-layout-color3: var(--colab-primary-surface-color, white);\n",
       "                }\n",
       "            </style>\n",
       "            "
      ],
      "text/plain": [
       "<IPython.core.display.HTML object>"
      ]
     },
     "metadata": {},
     "output_type": "display_data"
    },
    {
     "name": "stdout",
     "output_type": "stream",
     "text": [
      "Beginning export process in mode train\n",
      "Features to be extracted:\n",
      "['elevation', 'chili', 'impervious', 'water', 'population', 'fuel1', 'fuel2', 'fuel3', 'landfire_fuel', 'NDVI', 'pdsi', 'pr', 'erc', 'bi', 'avg_sph', 'tmp_day', 'tmp_75', 'gust_med', 'wind_avg', 'wind_75', 'wdir_wind', 'wdir_gust', 'viirs_PrevFireMask', 'viirs_FireMask']\n",
      "Looking at date 2016-07-22T00:00:00\n",
      "Getting detection count....\n",
      "Prev fire count found: 1\n",
      "Post fire count found: 1\n",
      "Extracting samples in chunks...\n"
     ]
    },
    {
     "ename": "EEException",
     "evalue": "Reprojection output too large (13595x14663 pixels).",
     "output_type": "error",
     "traceback": [
      "\u001b[0;31m---------------------------------------------------------------------------\u001b[0m",
      "\u001b[0;31mHttpError\u001b[0m                                 Traceback (most recent call last)",
      "File \u001b[0;32m/Applications/miniconda3/envs/fire/lib/python3.12/site-packages/ee/data.py:405\u001b[0m, in \u001b[0;36m_execute_cloud_call\u001b[0;34m(call, num_retries)\u001b[0m\n\u001b[1;32m    404\u001b[0m \u001b[38;5;28;01mtry\u001b[39;00m:\n\u001b[0;32m--> 405\u001b[0m   \u001b[38;5;28;01mreturn\u001b[39;00m call\u001b[38;5;241m.\u001b[39mexecute(num_retries\u001b[38;5;241m=\u001b[39mnum_retries)\n\u001b[1;32m    406\u001b[0m \u001b[38;5;28;01mexcept\u001b[39;00m googleapiclient\u001b[38;5;241m.\u001b[39merrors\u001b[38;5;241m.\u001b[39mHttpError \u001b[38;5;28;01mas\u001b[39;00m e:\n",
      "File \u001b[0;32m/Applications/miniconda3/envs/fire/lib/python3.12/site-packages/googleapiclient/_helpers.py:130\u001b[0m, in \u001b[0;36mpositional.<locals>.positional_decorator.<locals>.positional_wrapper\u001b[0;34m(*args, **kwargs)\u001b[0m\n\u001b[1;32m    129\u001b[0m         logger\u001b[38;5;241m.\u001b[39mwarning(message)\n\u001b[0;32m--> 130\u001b[0m \u001b[38;5;28;01mreturn\u001b[39;00m wrapped(\u001b[38;5;241m*\u001b[39margs, \u001b[38;5;241m*\u001b[39m\u001b[38;5;241m*\u001b[39mkwargs)\n",
      "File \u001b[0;32m/Applications/miniconda3/envs/fire/lib/python3.12/site-packages/googleapiclient/http.py:938\u001b[0m, in \u001b[0;36mHttpRequest.execute\u001b[0;34m(self, http, num_retries)\u001b[0m\n\u001b[1;32m    937\u001b[0m \u001b[38;5;28;01mif\u001b[39;00m resp\u001b[38;5;241m.\u001b[39mstatus \u001b[38;5;241m>\u001b[39m\u001b[38;5;241m=\u001b[39m \u001b[38;5;241m300\u001b[39m:\n\u001b[0;32m--> 938\u001b[0m     \u001b[38;5;28;01mraise\u001b[39;00m HttpError(resp, content, uri\u001b[38;5;241m=\u001b[39m\u001b[38;5;28mself\u001b[39m\u001b[38;5;241m.\u001b[39muri)\n\u001b[1;32m    939\u001b[0m \u001b[38;5;28;01mreturn\u001b[39;00m \u001b[38;5;28mself\u001b[39m\u001b[38;5;241m.\u001b[39mpostproc(resp, content)\n",
      "\u001b[0;31mHttpError\u001b[0m: <HttpError 400 when requesting https://earthengine.googleapis.com/v1/projects/earthengine-legacy/value:compute?prettyPrint=false&alt=json returned \"Reprojection output too large (13595x14663 pixels).\". Details: \"Reprojection output too large (13595x14663 pixels).\">",
      "\nDuring handling of the above exception, another exception occurred:\n",
      "\u001b[0;31mEEException\u001b[0m                               Traceback (most recent call last)",
      "Cell \u001b[0;32mIn[4], line 1\u001b[0m\n\u001b[0;32m----> 1\u001b[0m res \u001b[38;5;241m=\u001b[39m ee_export_utils\u001b[38;5;241m.\u001b[39mexport_ml_datasets(\n\u001b[1;32m      2\u001b[0m       bucket\u001b[38;5;241m=\u001b[39mconfig[\u001b[38;5;124m'\u001b[39m\u001b[38;5;124mbucket\u001b[39m\u001b[38;5;124m'\u001b[39m],\n\u001b[1;32m      3\u001b[0m       folder\u001b[38;5;241m=\u001b[39mconfig[\u001b[38;5;124m'\u001b[39m\u001b[38;5;124mfolder\u001b[39m\u001b[38;5;124m'\u001b[39m],\n\u001b[1;32m      4\u001b[0m       start_date\u001b[38;5;241m=\u001b[39mconfig[\u001b[38;5;124m'\u001b[39m\u001b[38;5;124mstart_date\u001b[39m\u001b[38;5;124m'\u001b[39m],\n\u001b[1;32m      5\u001b[0m       end_date\u001b[38;5;241m=\u001b[39mconfig[\u001b[38;5;124m'\u001b[39m\u001b[38;5;124mend_date\u001b[39m\u001b[38;5;124m'\u001b[39m],\n\u001b[1;32m      6\u001b[0m       prefix\u001b[38;5;241m=\u001b[39mconfig[\u001b[38;5;124m'\u001b[39m\u001b[38;5;124mprefix\u001b[39m\u001b[38;5;124m'\u001b[39m],\n\u001b[1;32m      7\u001b[0m       kernel_size\u001b[38;5;241m=\u001b[39mconfig[\u001b[38;5;124m'\u001b[39m\u001b[38;5;124mkernel_size\u001b[39m\u001b[38;5;124m'\u001b[39m],\n\u001b[1;32m      8\u001b[0m       sampling_scale\u001b[38;5;241m=\u001b[39mconfig[\u001b[38;5;124m'\u001b[39m\u001b[38;5;124msampling_scale\u001b[39m\u001b[38;5;124m'\u001b[39m],\n\u001b[1;32m      9\u001b[0m       eval_split_ratio\u001b[38;5;241m=\u001b[39mconfig[\u001b[38;5;124m'\u001b[39m\u001b[38;5;124meval_split_ratio\u001b[39m\u001b[38;5;124m'\u001b[39m],\n\u001b[1;32m     10\u001b[0m       num_samples_per_file\u001b[38;5;241m=\u001b[39mconfig[\u001b[38;5;124m'\u001b[39m\u001b[38;5;124mnum_samples_per_file\u001b[39m\u001b[38;5;124m'\u001b[39m],\n\u001b[1;32m     11\u001b[0m       coordinates\u001b[38;5;241m=\u001b[39mconfig[\u001b[38;5;124m'\u001b[39m\u001b[38;5;124mcoordinates\u001b[39m\u001b[38;5;124m'\u001b[39m],\n\u001b[1;32m     12\u001b[0m       fire_season_only \u001b[38;5;241m=\u001b[39m \u001b[38;5;28;01mTrue\u001b[39;00m\n\u001b[1;32m     13\u001b[0m   )\n",
      "File \u001b[0;32m~/Documents/ndws/data_export/ee_export_utils.py:565\u001b[0m, in \u001b[0;36mexport_ml_datasets\u001b[0;34m(bucket, folder, start_date, end_date, prefix, kernel_size, sampling_scale, eval_split_ratio, num_samples_per_file, coordinates, fire_season_only)\u001b[0m\n\u001b[1;32m    563\u001b[0m \u001b[38;5;28mprint\u001b[39m(\u001b[38;5;124m\"\u001b[39m\u001b[38;5;124mBeginning export process in mode\u001b[39m\u001b[38;5;124m\"\u001b[39m,mode)\n\u001b[1;32m    564\u001b[0m sub_prefix \u001b[38;5;241m=\u001b[39m \u001b[38;5;124mf\u001b[39m\u001b[38;5;124m'\u001b[39m\u001b[38;5;132;01m{\u001b[39;00mmode\u001b[38;5;132;01m}\u001b[39;00m\u001b[38;5;124m_\u001b[39m\u001b[38;5;132;01m{\u001b[39;00mprefix\u001b[38;5;132;01m}\u001b[39;00m\u001b[38;5;124m'\u001b[39m\n\u001b[0;32m--> 565\u001b[0m _export_dataset(\n\u001b[1;32m    566\u001b[0m     bucket\u001b[38;5;241m=\u001b[39mbucket,\n\u001b[1;32m    567\u001b[0m     folder\u001b[38;5;241m=\u001b[39mfolder,\n\u001b[1;32m    568\u001b[0m     prefix\u001b[38;5;241m=\u001b[39msub_prefix,\n\u001b[1;32m    569\u001b[0m     start_date\u001b[38;5;241m=\u001b[39mstart_date,\n\u001b[1;32m    570\u001b[0m     start_days\u001b[38;5;241m=\u001b[39msplit_days[mode],\n\u001b[1;32m    571\u001b[0m     geometry\u001b[38;5;241m=\u001b[39mee\u001b[38;5;241m.\u001b[39mGeometry\u001b[38;5;241m.\u001b[39mRectangle(coordinates),\n\u001b[1;32m    572\u001b[0m     kernel_size\u001b[38;5;241m=\u001b[39mkernel_size,\n\u001b[1;32m    573\u001b[0m     sampling_scale\u001b[38;5;241m=\u001b[39msampling_scale,\n\u001b[1;32m    574\u001b[0m     num_samples_per_file\u001b[38;5;241m=\u001b[39mnum_samples_per_file)\n",
      "File \u001b[0;32m~/Documents/ndws/data_export/ee_export_utils.py:456\u001b[0m, in \u001b[0;36m_export_dataset\u001b[0;34m(bucket, folder, prefix, start_date, start_days, geometry, kernel_size, sampling_scale, num_samples_per_file, verbose)\u001b[0m\n\u001b[1;32m    445\u001b[0m         samples \u001b[38;5;241m=\u001b[39m _chunked_sample_extraction(\n\u001b[1;32m    446\u001b[0m             to_sample,\n\u001b[1;32m    447\u001b[0m             fire_count_prev,\n\u001b[0;32m   (...)\u001b[0m\n\u001b[1;32m    451\u001b[0m             date\u001b[38;5;241m=\u001b[39mwindow_start\n\u001b[1;32m    452\u001b[0m         )\n\u001b[1;32m    454\u001b[0m         total_feature_collection \u001b[38;5;241m=\u001b[39m total_feature_collection\u001b[38;5;241m.\u001b[39mmerge(samples)\n\u001b[0;32m--> 456\u001b[0m         total_feature_collection, file_count \u001b[38;5;241m=\u001b[39m _verify_and_export_feature_collection(\n\u001b[1;32m    457\u001b[0m             num_samples_per_file, total_feature_collection, file_count, features)\n\u001b[1;32m    459\u001b[0m \u001b[38;5;66;03m# Export the remaining feature collection\u001b[39;00m\n\u001b[1;32m    460\u001b[0m _verify_and_export_feature_collection(\u001b[38;5;241m0\u001b[39m, total_feature_collection, file_count,\n\u001b[1;32m    461\u001b[0m                                 features)\n",
      "File \u001b[0;32m~/Documents/ndws/data_export/ee_export_utils.py:318\u001b[0m, in \u001b[0;36m_export_dataset.<locals>._verify_and_export_feature_collection\u001b[0;34m(num_samples_per_export, feature_collection, file_count, features)\u001b[0m\n\u001b[1;32m    316\u001b[0m \u001b[38;5;66;03m# First verify if collection has any elements by checking a small subset\u001b[39;00m\n\u001b[1;32m    317\u001b[0m subset \u001b[38;5;241m=\u001b[39m feature_collection\u001b[38;5;241m.\u001b[39mlimit(\u001b[38;5;241m1\u001b[39m)\n\u001b[0;32m--> 318\u001b[0m \u001b[38;5;28;01mif\u001b[39;00m subset\u001b[38;5;241m.\u001b[39msize()\u001b[38;5;241m.\u001b[39mgetInfo() \u001b[38;5;241m==\u001b[39m \u001b[38;5;241m0\u001b[39m:\n\u001b[1;32m    319\u001b[0m     \u001b[38;5;28mprint\u001b[39m(\u001b[38;5;124m'\u001b[39m\u001b[38;5;124mEmpty feature collection, resetting\u001b[39m\u001b[38;5;124m'\u001b[39m)\n\u001b[1;32m    320\u001b[0m     feature_collection \u001b[38;5;241m=\u001b[39m ee\u001b[38;5;241m.\u001b[39mFeatureCollection([])\n",
      "File \u001b[0;32m/Applications/miniconda3/envs/fire/lib/python3.12/site-packages/ee/computedobject.py:107\u001b[0m, in \u001b[0;36mComputedObject.getInfo\u001b[0;34m(self)\u001b[0m\n\u001b[1;32m    101\u001b[0m \u001b[38;5;28;01mdef\u001b[39;00m \u001b[38;5;21mgetInfo\u001b[39m(\u001b[38;5;28mself\u001b[39m) \u001b[38;5;241m-\u001b[39m\u001b[38;5;241m>\u001b[39m Optional[Any]:\n\u001b[1;32m    102\u001b[0m \u001b[38;5;250m  \u001b[39m\u001b[38;5;124;03m\"\"\"Fetch and return information about this object.\u001b[39;00m\n\u001b[1;32m    103\u001b[0m \n\u001b[1;32m    104\u001b[0m \u001b[38;5;124;03m  Returns:\u001b[39;00m\n\u001b[1;32m    105\u001b[0m \u001b[38;5;124;03m    The object can evaluate to anything.\u001b[39;00m\n\u001b[1;32m    106\u001b[0m \u001b[38;5;124;03m  \"\"\"\u001b[39;00m\n\u001b[0;32m--> 107\u001b[0m   \u001b[38;5;28;01mreturn\u001b[39;00m data\u001b[38;5;241m.\u001b[39mcomputeValue(\u001b[38;5;28mself\u001b[39m)\n",
      "File \u001b[0;32m/Applications/miniconda3/envs/fire/lib/python3.12/site-packages/ee/data.py:1125\u001b[0m, in \u001b[0;36mcomputeValue\u001b[0;34m(obj)\u001b[0m\n\u001b[1;32m   1122\u001b[0m body \u001b[38;5;241m=\u001b[39m {\u001b[38;5;124m'\u001b[39m\u001b[38;5;124mexpression\u001b[39m\u001b[38;5;124m'\u001b[39m: serializer\u001b[38;5;241m.\u001b[39mencode(obj, for_cloud_api\u001b[38;5;241m=\u001b[39m\u001b[38;5;28;01mTrue\u001b[39;00m)}\n\u001b[1;32m   1123\u001b[0m _maybe_populate_workload_tag(body)\n\u001b[0;32m-> 1125\u001b[0m \u001b[38;5;28;01mreturn\u001b[39;00m _execute_cloud_call(\n\u001b[1;32m   1126\u001b[0m     _get_cloud_projects()\n\u001b[1;32m   1127\u001b[0m     \u001b[38;5;241m.\u001b[39mvalue()\n\u001b[1;32m   1128\u001b[0m     \u001b[38;5;241m.\u001b[39mcompute(body\u001b[38;5;241m=\u001b[39mbody, project\u001b[38;5;241m=\u001b[39m_get_projects_path(), prettyPrint\u001b[38;5;241m=\u001b[39m\u001b[38;5;28;01mFalse\u001b[39;00m)\n\u001b[1;32m   1129\u001b[0m )[\u001b[38;5;124m'\u001b[39m\u001b[38;5;124mresult\u001b[39m\u001b[38;5;124m'\u001b[39m]\n",
      "File \u001b[0;32m/Applications/miniconda3/envs/fire/lib/python3.12/site-packages/ee/data.py:407\u001b[0m, in \u001b[0;36m_execute_cloud_call\u001b[0;34m(call, num_retries)\u001b[0m\n\u001b[1;32m    405\u001b[0m   \u001b[38;5;28;01mreturn\u001b[39;00m call\u001b[38;5;241m.\u001b[39mexecute(num_retries\u001b[38;5;241m=\u001b[39mnum_retries)\n\u001b[1;32m    406\u001b[0m \u001b[38;5;28;01mexcept\u001b[39;00m googleapiclient\u001b[38;5;241m.\u001b[39merrors\u001b[38;5;241m.\u001b[39mHttpError \u001b[38;5;28;01mas\u001b[39;00m e:\n\u001b[0;32m--> 407\u001b[0m   \u001b[38;5;28;01mraise\u001b[39;00m _translate_cloud_exception(e)\n",
      "\u001b[0;31mEEException\u001b[0m: Reprojection output too large (13595x14663 pixels)."
     ]
    }
   ],
   "source": [
    "res = ee_export_utils.export_ml_datasets(\n",
    "      bucket=config['bucket'],\n",
    "      folder=config['folder'],\n",
    "      start_date=config['start_date'],\n",
    "      end_date=config['end_date'],\n",
    "      prefix=config['prefix'],\n",
    "      kernel_size=config['kernel_size'],\n",
    "      sampling_scale=config['sampling_scale'],\n",
    "      eval_split_ratio=config['eval_split_ratio'],\n",
    "      num_samples_per_file=config['num_samples_per_file'],\n",
    "      coordinates=config['coordinates'],\n",
    "      fire_season_only = True\n",
    "  )"
   ]
  },
  {
   "cell_type": "code",
   "execution_count": 6,
   "id": "1e0adace-1c4b-413d-b746-010eb6578ee6",
   "metadata": {},
   "outputs": [
    {
     "data": {
      "text/html": [
       "\n",
       "            <style>\n",
       "                .geemap-dark {\n",
       "                    --jp-widgets-color: white;\n",
       "                    --jp-widgets-label-color: white;\n",
       "                    --jp-ui-font-color1: white;\n",
       "                    --jp-layout-color2: #454545;\n",
       "                    background-color: #383838;\n",
       "                }\n",
       "\n",
       "                .geemap-dark .jupyter-button {\n",
       "                    --jp-layout-color3: #383838;\n",
       "                }\n",
       "\n",
       "                .geemap-colab {\n",
       "                    background-color: var(--colab-primary-surface-color, white);\n",
       "                }\n",
       "\n",
       "                .geemap-colab .jupyter-button {\n",
       "                    --jp-layout-color3: var(--colab-primary-surface-color, white);\n",
       "                }\n",
       "            </style>\n",
       "            "
      ],
      "text/plain": [
       "<IPython.core.display.HTML object>"
      ]
     },
     "metadata": {},
     "output_type": "display_data"
    },
    {
     "name": "stderr",
     "output_type": "stream",
     "text": [
      "/Applications/miniconda3/envs/fire/lib/python3.12/site-packages/eerepr/repr.py:57: UserWarning: Getting info failed with: 'Reprojection output too large (20384x21732 pixels).'. Falling back to string repr.\n",
      "  warn(f\"Getting info failed with: '{e}'. Falling back to string repr.\")\n"
     ]
    },
    {
     "data": {
      "text/html": [
       "<pre>&lt;ee.ee_number.Number object at 0x14ef00290&gt;</pre>"
      ],
      "text/plain": [
       "<ee.ee_number.Number at 0x14ef00290>"
      ]
     },
     "execution_count": 6,
     "metadata": {},
     "output_type": "execute_result"
    }
   ],
   "source": [
    "res.size()"
   ]
  },
  {
   "cell_type": "code",
   "execution_count": 12,
   "id": "dc21e6e4-1c17-44cd-a780-a301ac9a81e2",
   "metadata": {},
   "outputs": [
    {
     "data": {
      "text/html": [
       "\n",
       "            <style>\n",
       "                .geemap-dark {\n",
       "                    --jp-widgets-color: white;\n",
       "                    --jp-widgets-label-color: white;\n",
       "                    --jp-ui-font-color1: white;\n",
       "                    --jp-layout-color2: #454545;\n",
       "                    background-color: #383838;\n",
       "                }\n",
       "\n",
       "                .geemap-dark .jupyter-button {\n",
       "                    --jp-layout-color3: #383838;\n",
       "                }\n",
       "\n",
       "                .geemap-colab {\n",
       "                    background-color: var(--colab-primary-surface-color, white);\n",
       "                }\n",
       "\n",
       "                .geemap-colab .jupyter-button {\n",
       "                    --jp-layout-color3: var(--colab-primary-surface-color, white);\n",
       "                }\n",
       "            </style>\n",
       "            "
      ],
      "text/plain": [
       "<IPython.core.display.HTML object>"
      ]
     },
     "metadata": {},
     "output_type": "display_data"
    },
    {
     "ename": "KeyboardInterrupt",
     "evalue": "",
     "output_type": "error",
     "traceback": [
      "\u001b[0;31m---------------------------------------------------------------------------\u001b[0m",
      "\u001b[0;31mKeyboardInterrupt\u001b[0m                         Traceback (most recent call last)",
      "Cell \u001b[0;32mIn[12], line 18\u001b[0m\n\u001b[1;32m      4\u001b[0m \u001b[38;5;66;03m# Get the first image from the collection\u001b[39;00m\n\u001b[1;32m      5\u001b[0m \u001b[38;5;66;03m# idx =22\u001b[39;00m\n\u001b[1;32m      6\u001b[0m \u001b[38;5;66;03m# feature_names = ee_export_utils._get_all_feature_bands()\u001b[39;00m\n\u001b[0;32m   (...)\u001b[0m\n\u001b[1;32m      9\u001b[0m \n\u001b[1;32m     10\u001b[0m \u001b[38;5;66;03m# Add the first image to the map\u001b[39;00m\n\u001b[1;32m     11\u001b[0m viz_params \u001b[38;5;241m=\u001b[39m {\n\u001b[1;32m     12\u001b[0m     \u001b[38;5;124m'\u001b[39m\u001b[38;5;124mmin\u001b[39m\u001b[38;5;124m'\u001b[39m: \u001b[38;5;241m0\u001b[39m,\n\u001b[1;32m     13\u001b[0m     \u001b[38;5;124m'\u001b[39m\u001b[38;5;124mmax\u001b[39m\u001b[38;5;124m'\u001b[39m: \u001b[38;5;241m1\u001b[39m,\n\u001b[1;32m     14\u001b[0m     \u001b[38;5;124m'\u001b[39m\u001b[38;5;124mpalette\u001b[39m\u001b[38;5;124m'\u001b[39m: [\u001b[38;5;124m'\u001b[39m\u001b[38;5;124mblack\u001b[39m\u001b[38;5;124m'\u001b[39m,\u001b[38;5;124m'\u001b[39m\u001b[38;5;124mred\u001b[39m\u001b[38;5;124m'\u001b[39m],\n\u001b[1;32m     15\u001b[0m     \u001b[38;5;124m'\u001b[39m\u001b[38;5;124mopacity\u001b[39m\u001b[38;5;124m'\u001b[39m:\u001b[38;5;241m0.7\u001b[39m\n\u001b[1;32m     16\u001b[0m }\n\u001b[0;32m---> 18\u001b[0m Map\u001b[38;5;241m.\u001b[39maddLayer(res, viz_params, )\u001b[38;5;66;03m#feature_names[idx])\u001b[39;00m\n\u001b[1;32m     19\u001b[0m Map\n",
      "File \u001b[0;32m/Applications/miniconda3/envs/fire/lib/python3.12/site-packages/geemap/geemap.py:334\u001b[0m, in \u001b[0;36mMap.add_ee_layer\u001b[0;34m(self, ee_object, vis_params, name, shown, opacity)\u001b[0m\n\u001b[1;32m    329\u001b[0m         \u001b[38;5;28;01mif\u001b[39;00m has_plot_dropdown:\n\u001b[1;32m    330\u001b[0m             \u001b[38;5;28mself\u001b[39m\u001b[38;5;241m.\u001b[39m_plot_dropdown_widget\u001b[38;5;241m.\u001b[39moptions \u001b[38;5;241m=\u001b[39m \u001b[38;5;28mlist\u001b[39m(\n\u001b[1;32m    331\u001b[0m                 \u001b[38;5;28mself\u001b[39m\u001b[38;5;241m.\u001b[39mee_raster_layers\u001b[38;5;241m.\u001b[39mkeys()\n\u001b[1;32m    332\u001b[0m             )\n\u001b[0;32m--> 334\u001b[0m \u001b[38;5;28msuper\u001b[39m()\u001b[38;5;241m.\u001b[39madd_layer(ee_object, vis_params, name, shown, opacity)\n\u001b[1;32m    336\u001b[0m \u001b[38;5;28;01mif\u001b[39;00m \u001b[38;5;28misinstance\u001b[39m(ee_object, (ee\u001b[38;5;241m.\u001b[39mImage, ee\u001b[38;5;241m.\u001b[39mImageCollection)):\n\u001b[1;32m    337\u001b[0m     \u001b[38;5;28;01mif\u001b[39;00m has_plot_dropdown:\n",
      "File \u001b[0;32m/Applications/miniconda3/envs/fire/lib/python3.12/site-packages/geemap/core.py:796\u001b[0m, in \u001b[0;36mMap.add_layer\u001b[0;34m(self, ee_object, vis_params, name, shown, opacity)\u001b[0m\n\u001b[1;32m    794\u001b[0m \u001b[38;5;28;01mif\u001b[39;00m \u001b[38;5;28misinstance\u001b[39m(ee_object, ee\u001b[38;5;241m.\u001b[39mImageCollection):\n\u001b[1;32m    795\u001b[0m     ee_object \u001b[38;5;241m=\u001b[39m ee_object\u001b[38;5;241m.\u001b[39mmosaic()\n\u001b[0;32m--> 796\u001b[0m tile_layer \u001b[38;5;241m=\u001b[39m ee_tile_layers\u001b[38;5;241m.\u001b[39mEELeafletTileLayer(\n\u001b[1;32m    797\u001b[0m     ee_object, vis_params, name, shown, opacity\n\u001b[1;32m    798\u001b[0m )\n\u001b[1;32m    800\u001b[0m \u001b[38;5;66;03m# Remove the layer if it already exists.\u001b[39;00m\n\u001b[1;32m    801\u001b[0m \u001b[38;5;28mself\u001b[39m\u001b[38;5;241m.\u001b[39mremove(name)\n",
      "File \u001b[0;32m/Applications/miniconda3/envs/fire/lib/python3.12/site-packages/geemap/ee_tile_layers.py:144\u001b[0m, in \u001b[0;36mEELeafletTileLayer.__init__\u001b[0;34m(self, ee_object, vis_params, name, shown, opacity, **kwargs)\u001b[0m\n\u001b[1;32m    134\u001b[0m \u001b[38;5;250m\u001b[39m\u001b[38;5;124;03m\"\"\"Initialize the ipyleaflet tile layer.\u001b[39;00m\n\u001b[1;32m    135\u001b[0m \n\u001b[1;32m    136\u001b[0m \u001b[38;5;124;03mArgs:\u001b[39;00m\n\u001b[0;32m   (...)\u001b[0m\n\u001b[1;32m    141\u001b[0m \u001b[38;5;124;03m    opacity (float, optional): The layer's opacity represented as a number between 0 and 1. Defaults to 1.\u001b[39;00m\n\u001b[1;32m    142\u001b[0m \u001b[38;5;124;03m\"\"\"\u001b[39;00m\n\u001b[1;32m    143\u001b[0m \u001b[38;5;28mself\u001b[39m\u001b[38;5;241m.\u001b[39m_ee_object \u001b[38;5;241m=\u001b[39m ee_object\n\u001b[0;32m--> 144\u001b[0m \u001b[38;5;28mself\u001b[39m\u001b[38;5;241m.\u001b[39murl_format \u001b[38;5;241m=\u001b[39m _get_tile_url_format(\n\u001b[1;32m    145\u001b[0m     ee_object, _validate_vis_params(vis_params)\n\u001b[1;32m    146\u001b[0m )\n\u001b[1;32m    147\u001b[0m \u001b[38;5;28msuper\u001b[39m()\u001b[38;5;241m.\u001b[39m\u001b[38;5;21m__init__\u001b[39m(\n\u001b[1;32m    148\u001b[0m     url\u001b[38;5;241m=\u001b[39m\u001b[38;5;28mself\u001b[39m\u001b[38;5;241m.\u001b[39murl_format,\n\u001b[1;32m    149\u001b[0m     attribution\u001b[38;5;241m=\u001b[39m\u001b[38;5;124m\"\u001b[39m\u001b[38;5;124mGoogle Earth Engine\u001b[39m\u001b[38;5;124m\"\u001b[39m,\n\u001b[0;32m   (...)\u001b[0m\n\u001b[1;32m    154\u001b[0m     \u001b[38;5;241m*\u001b[39m\u001b[38;5;241m*\u001b[39mkwargs,\n\u001b[1;32m    155\u001b[0m )\n",
      "File \u001b[0;32m/Applications/miniconda3/envs/fire/lib/python3.12/site-packages/geemap/ee_tile_layers.py:19\u001b[0m, in \u001b[0;36m_get_tile_url_format\u001b[0;34m(ee_object, vis_params)\u001b[0m\n\u001b[1;32m     17\u001b[0m \u001b[38;5;28;01mdef\u001b[39;00m \u001b[38;5;21m_get_tile_url_format\u001b[39m(ee_object, vis_params):\n\u001b[1;32m     18\u001b[0m     image \u001b[38;5;241m=\u001b[39m _ee_object_to_image(ee_object, vis_params)\n\u001b[0;32m---> 19\u001b[0m     map_id_dict \u001b[38;5;241m=\u001b[39m ee\u001b[38;5;241m.\u001b[39mImage(image)\u001b[38;5;241m.\u001b[39mgetMapId(vis_params)\n\u001b[1;32m     20\u001b[0m     \u001b[38;5;28;01mreturn\u001b[39;00m map_id_dict[\u001b[38;5;124m\"\u001b[39m\u001b[38;5;124mtile_fetcher\u001b[39m\u001b[38;5;124m\"\u001b[39m]\u001b[38;5;241m.\u001b[39murl_format\n",
      "File \u001b[0;32m/Applications/miniconda3/envs/fire/lib/python3.12/site-packages/ee/image.py:198\u001b[0m, in \u001b[0;36mImage.getMapId\u001b[0;34m(self, vis_params)\u001b[0m\n\u001b[1;32m    196\u001b[0m vis_image, request \u001b[38;5;241m=\u001b[39m \u001b[38;5;28mself\u001b[39m\u001b[38;5;241m.\u001b[39m_apply_visualization(vis_params)\n\u001b[1;32m    197\u001b[0m request[\u001b[38;5;124m'\u001b[39m\u001b[38;5;124mimage\u001b[39m\u001b[38;5;124m'\u001b[39m] \u001b[38;5;241m=\u001b[39m vis_image\n\u001b[0;32m--> 198\u001b[0m response \u001b[38;5;241m=\u001b[39m data\u001b[38;5;241m.\u001b[39mgetMapId(request)\n\u001b[1;32m    199\u001b[0m response[\u001b[38;5;124m'\u001b[39m\u001b[38;5;124mimage\u001b[39m\u001b[38;5;124m'\u001b[39m] \u001b[38;5;241m=\u001b[39m \u001b[38;5;28mself\u001b[39m\n\u001b[1;32m    200\u001b[0m \u001b[38;5;28;01mreturn\u001b[39;00m response\n",
      "File \u001b[0;32m/Applications/miniconda3/envs/fire/lib/python3.12/site-packages/ee/data.py:747\u001b[0m, in \u001b[0;36mgetMapId\u001b[0;34m(params)\u001b[0m\n\u001b[1;32m    742\u001b[0m queryParams \u001b[38;5;241m=\u001b[39m {\n\u001b[1;32m    743\u001b[0m     \u001b[38;5;124m'\u001b[39m\u001b[38;5;124mfields\u001b[39m\u001b[38;5;124m'\u001b[39m: \u001b[38;5;124m'\u001b[39m\u001b[38;5;124mname\u001b[39m\u001b[38;5;124m'\u001b[39m,\n\u001b[1;32m    744\u001b[0m     \u001b[38;5;124m'\u001b[39m\u001b[38;5;124mbody\u001b[39m\u001b[38;5;124m'\u001b[39m: request,\n\u001b[1;32m    745\u001b[0m }\n\u001b[1;32m    746\u001b[0m _maybe_populate_workload_tag(queryParams)\n\u001b[0;32m--> 747\u001b[0m result \u001b[38;5;241m=\u001b[39m _execute_cloud_call(\n\u001b[1;32m    748\u001b[0m     _get_cloud_projects()\n\u001b[1;32m    749\u001b[0m     \u001b[38;5;241m.\u001b[39mmaps()\n\u001b[1;32m    750\u001b[0m     \u001b[38;5;241m.\u001b[39mcreate(parent\u001b[38;5;241m=\u001b[39m_get_projects_path(), \u001b[38;5;241m*\u001b[39m\u001b[38;5;241m*\u001b[39mqueryParams)\n\u001b[1;32m    751\u001b[0m )\n\u001b[1;32m    752\u001b[0m map_name \u001b[38;5;241m=\u001b[39m result[\u001b[38;5;124m'\u001b[39m\u001b[38;5;124mname\u001b[39m\u001b[38;5;124m'\u001b[39m]\n\u001b[1;32m    753\u001b[0m url_format \u001b[38;5;241m=\u001b[39m \u001b[38;5;124m'\u001b[39m\u001b[38;5;132;01m%s\u001b[39;00m\u001b[38;5;124m/\u001b[39m\u001b[38;5;132;01m%s\u001b[39;00m\u001b[38;5;124m/\u001b[39m\u001b[38;5;132;01m%s\u001b[39;00m\u001b[38;5;124m/tiles/\u001b[39m\u001b[38;5;132;01m{z}\u001b[39;00m\u001b[38;5;124m/\u001b[39m\u001b[38;5;132;01m{x}\u001b[39;00m\u001b[38;5;124m/\u001b[39m\u001b[38;5;132;01m{y}\u001b[39;00m\u001b[38;5;124m'\u001b[39m \u001b[38;5;241m%\u001b[39m (\n\u001b[1;32m    754\u001b[0m     _tile_base_url, _cloud_api_utils\u001b[38;5;241m.\u001b[39mVERSION, map_name)\n",
      "File \u001b[0;32m/Applications/miniconda3/envs/fire/lib/python3.12/site-packages/ee/data.py:405\u001b[0m, in \u001b[0;36m_execute_cloud_call\u001b[0;34m(call, num_retries)\u001b[0m\n\u001b[1;32m    403\u001b[0m num_retries \u001b[38;5;241m=\u001b[39m _max_retries \u001b[38;5;28;01mif\u001b[39;00m num_retries \u001b[38;5;129;01mis\u001b[39;00m \u001b[38;5;28;01mNone\u001b[39;00m \u001b[38;5;28;01melse\u001b[39;00m num_retries\n\u001b[1;32m    404\u001b[0m \u001b[38;5;28;01mtry\u001b[39;00m:\n\u001b[0;32m--> 405\u001b[0m   \u001b[38;5;28;01mreturn\u001b[39;00m call\u001b[38;5;241m.\u001b[39mexecute(num_retries\u001b[38;5;241m=\u001b[39mnum_retries)\n\u001b[1;32m    406\u001b[0m \u001b[38;5;28;01mexcept\u001b[39;00m googleapiclient\u001b[38;5;241m.\u001b[39merrors\u001b[38;5;241m.\u001b[39mHttpError \u001b[38;5;28;01mas\u001b[39;00m e:\n\u001b[1;32m    407\u001b[0m   \u001b[38;5;28;01mraise\u001b[39;00m _translate_cloud_exception(e)\n",
      "File \u001b[0;32m/Applications/miniconda3/envs/fire/lib/python3.12/site-packages/googleapiclient/_helpers.py:130\u001b[0m, in \u001b[0;36mpositional.<locals>.positional_decorator.<locals>.positional_wrapper\u001b[0;34m(*args, **kwargs)\u001b[0m\n\u001b[1;32m    128\u001b[0m     \u001b[38;5;28;01melif\u001b[39;00m positional_parameters_enforcement \u001b[38;5;241m==\u001b[39m POSITIONAL_WARNING:\n\u001b[1;32m    129\u001b[0m         logger\u001b[38;5;241m.\u001b[39mwarning(message)\n\u001b[0;32m--> 130\u001b[0m \u001b[38;5;28;01mreturn\u001b[39;00m wrapped(\u001b[38;5;241m*\u001b[39margs, \u001b[38;5;241m*\u001b[39m\u001b[38;5;241m*\u001b[39mkwargs)\n",
      "File \u001b[0;32m/Applications/miniconda3/envs/fire/lib/python3.12/site-packages/googleapiclient/http.py:923\u001b[0m, in \u001b[0;36mHttpRequest.execute\u001b[0;34m(self, http, num_retries)\u001b[0m\n\u001b[1;32m    920\u001b[0m     \u001b[38;5;28mself\u001b[39m\u001b[38;5;241m.\u001b[39mheaders[\u001b[38;5;124m\"\u001b[39m\u001b[38;5;124mcontent-length\u001b[39m\u001b[38;5;124m\"\u001b[39m] \u001b[38;5;241m=\u001b[39m \u001b[38;5;28mstr\u001b[39m(\u001b[38;5;28mlen\u001b[39m(\u001b[38;5;28mself\u001b[39m\u001b[38;5;241m.\u001b[39mbody))\n\u001b[1;32m    922\u001b[0m \u001b[38;5;66;03m# Handle retries for server-side errors.\u001b[39;00m\n\u001b[0;32m--> 923\u001b[0m resp, content \u001b[38;5;241m=\u001b[39m _retry_request(\n\u001b[1;32m    924\u001b[0m     http,\n\u001b[1;32m    925\u001b[0m     num_retries,\n\u001b[1;32m    926\u001b[0m     \u001b[38;5;124m\"\u001b[39m\u001b[38;5;124mrequest\u001b[39m\u001b[38;5;124m\"\u001b[39m,\n\u001b[1;32m    927\u001b[0m     \u001b[38;5;28mself\u001b[39m\u001b[38;5;241m.\u001b[39m_sleep,\n\u001b[1;32m    928\u001b[0m     \u001b[38;5;28mself\u001b[39m\u001b[38;5;241m.\u001b[39m_rand,\n\u001b[1;32m    929\u001b[0m     \u001b[38;5;28mstr\u001b[39m(\u001b[38;5;28mself\u001b[39m\u001b[38;5;241m.\u001b[39muri),\n\u001b[1;32m    930\u001b[0m     method\u001b[38;5;241m=\u001b[39m\u001b[38;5;28mstr\u001b[39m(\u001b[38;5;28mself\u001b[39m\u001b[38;5;241m.\u001b[39mmethod),\n\u001b[1;32m    931\u001b[0m     body\u001b[38;5;241m=\u001b[39m\u001b[38;5;28mself\u001b[39m\u001b[38;5;241m.\u001b[39mbody,\n\u001b[1;32m    932\u001b[0m     headers\u001b[38;5;241m=\u001b[39m\u001b[38;5;28mself\u001b[39m\u001b[38;5;241m.\u001b[39mheaders,\n\u001b[1;32m    933\u001b[0m )\n\u001b[1;32m    935\u001b[0m \u001b[38;5;28;01mfor\u001b[39;00m callback \u001b[38;5;129;01min\u001b[39;00m \u001b[38;5;28mself\u001b[39m\u001b[38;5;241m.\u001b[39mresponse_callbacks:\n\u001b[1;32m    936\u001b[0m     callback(resp)\n",
      "File \u001b[0;32m/Applications/miniconda3/envs/fire/lib/python3.12/site-packages/googleapiclient/http.py:191\u001b[0m, in \u001b[0;36m_retry_request\u001b[0;34m(http, num_retries, req_type, sleep, rand, uri, method, *args, **kwargs)\u001b[0m\n\u001b[1;32m    189\u001b[0m \u001b[38;5;28;01mtry\u001b[39;00m:\n\u001b[1;32m    190\u001b[0m     exception \u001b[38;5;241m=\u001b[39m \u001b[38;5;28;01mNone\u001b[39;00m\n\u001b[0;32m--> 191\u001b[0m     resp, content \u001b[38;5;241m=\u001b[39m http\u001b[38;5;241m.\u001b[39mrequest(uri, method, \u001b[38;5;241m*\u001b[39margs, \u001b[38;5;241m*\u001b[39m\u001b[38;5;241m*\u001b[39mkwargs)\n\u001b[1;32m    192\u001b[0m \u001b[38;5;66;03m# Retry on SSL errors and socket timeout errors.\u001b[39;00m\n\u001b[1;32m    193\u001b[0m \u001b[38;5;28;01mexcept\u001b[39;00m _ssl_SSLError \u001b[38;5;28;01mas\u001b[39;00m ssl_error:\n",
      "File \u001b[0;32m/Applications/miniconda3/envs/fire/lib/python3.12/site-packages/google_auth_httplib2.py:218\u001b[0m, in \u001b[0;36mAuthorizedHttp.request\u001b[0;34m(self, uri, method, body, headers, redirections, connection_type, **kwargs)\u001b[0m\n\u001b[1;32m    215\u001b[0m     body_stream_position \u001b[38;5;241m=\u001b[39m body\u001b[38;5;241m.\u001b[39mtell()\n\u001b[1;32m    217\u001b[0m \u001b[38;5;66;03m# Make the request.\u001b[39;00m\n\u001b[0;32m--> 218\u001b[0m response, content \u001b[38;5;241m=\u001b[39m \u001b[38;5;28mself\u001b[39m\u001b[38;5;241m.\u001b[39mhttp\u001b[38;5;241m.\u001b[39mrequest(\n\u001b[1;32m    219\u001b[0m     uri,\n\u001b[1;32m    220\u001b[0m     method,\n\u001b[1;32m    221\u001b[0m     body\u001b[38;5;241m=\u001b[39mbody,\n\u001b[1;32m    222\u001b[0m     headers\u001b[38;5;241m=\u001b[39mrequest_headers,\n\u001b[1;32m    223\u001b[0m     redirections\u001b[38;5;241m=\u001b[39mredirections,\n\u001b[1;32m    224\u001b[0m     connection_type\u001b[38;5;241m=\u001b[39mconnection_type,\n\u001b[1;32m    225\u001b[0m     \u001b[38;5;241m*\u001b[39m\u001b[38;5;241m*\u001b[39mkwargs\n\u001b[1;32m    226\u001b[0m )\n\u001b[1;32m    228\u001b[0m \u001b[38;5;66;03m# If the response indicated that the credentials needed to be\u001b[39;00m\n\u001b[1;32m    229\u001b[0m \u001b[38;5;66;03m# refreshed, then refresh the credentials and re-attempt the\u001b[39;00m\n\u001b[1;32m    230\u001b[0m \u001b[38;5;66;03m# request.\u001b[39;00m\n\u001b[1;32m    231\u001b[0m \u001b[38;5;66;03m# A stored token may expire between the time it is retrieved and\u001b[39;00m\n\u001b[1;32m    232\u001b[0m \u001b[38;5;66;03m# the time the request is made, so we may need to try twice.\u001b[39;00m\n\u001b[1;32m    233\u001b[0m \u001b[38;5;28;01mif\u001b[39;00m (\n\u001b[1;32m    234\u001b[0m     response\u001b[38;5;241m.\u001b[39mstatus \u001b[38;5;129;01min\u001b[39;00m \u001b[38;5;28mself\u001b[39m\u001b[38;5;241m.\u001b[39m_refresh_status_codes\n\u001b[1;32m    235\u001b[0m     \u001b[38;5;129;01mand\u001b[39;00m _credential_refresh_attempt \u001b[38;5;241m<\u001b[39m \u001b[38;5;28mself\u001b[39m\u001b[38;5;241m.\u001b[39m_max_refresh_attempts\n\u001b[1;32m    236\u001b[0m ):\n",
      "File \u001b[0;32m/Applications/miniconda3/envs/fire/lib/python3.12/site-packages/ee/_cloud_api_utils.py:70\u001b[0m, in \u001b[0;36m_Http.request\u001b[0;34m(***failed resolving arguments***)\u001b[0m\n\u001b[1;32m     63\u001b[0m \u001b[38;5;28;01mdel\u001b[39;00m redirections  \u001b[38;5;66;03m# Ignored\u001b[39;00m\n\u001b[1;32m     65\u001b[0m \u001b[38;5;28;01mtry\u001b[39;00m:\n\u001b[1;32m     66\u001b[0m   \u001b[38;5;66;03m# googleapiclient is expecting an httplib2 object, and doesn't include\u001b[39;00m\n\u001b[1;32m     67\u001b[0m   \u001b[38;5;66;03m# requests error in the list of transient errors. Therefore, transient\u001b[39;00m\n\u001b[1;32m     68\u001b[0m   \u001b[38;5;66;03m# requests errors should be converted to kinds that googleapiclient\u001b[39;00m\n\u001b[1;32m     69\u001b[0m   \u001b[38;5;66;03m# consider transient.\u001b[39;00m\n\u001b[0;32m---> 70\u001b[0m   response \u001b[38;5;241m=\u001b[39m \u001b[38;5;28mself\u001b[39m\u001b[38;5;241m.\u001b[39m_session\u001b[38;5;241m.\u001b[39mrequest(\n\u001b[1;32m     71\u001b[0m       method, uri, data\u001b[38;5;241m=\u001b[39mbody, headers\u001b[38;5;241m=\u001b[39mheaders, timeout\u001b[38;5;241m=\u001b[39m\u001b[38;5;28mself\u001b[39m\u001b[38;5;241m.\u001b[39m_timeout\n\u001b[1;32m     72\u001b[0m   )\n\u001b[1;32m     73\u001b[0m \u001b[38;5;28;01mexcept\u001b[39;00m requests\u001b[38;5;241m.\u001b[39mexceptions\u001b[38;5;241m.\u001b[39mConnectionError \u001b[38;5;28;01mas\u001b[39;00m connection_error:\n\u001b[1;32m     74\u001b[0m   \u001b[38;5;28;01mraise\u001b[39;00m \u001b[38;5;167;01mConnectionError\u001b[39;00m(connection_error) \u001b[38;5;28;01mfrom\u001b[39;00m \u001b[38;5;21;01mconnection_error\u001b[39;00m\n",
      "File \u001b[0;32m/Applications/miniconda3/envs/fire/lib/python3.12/site-packages/requests/sessions.py:589\u001b[0m, in \u001b[0;36mSession.request\u001b[0;34m(self, method, url, params, data, headers, cookies, files, auth, timeout, allow_redirects, proxies, hooks, stream, verify, cert, json)\u001b[0m\n\u001b[1;32m    584\u001b[0m send_kwargs \u001b[38;5;241m=\u001b[39m {\n\u001b[1;32m    585\u001b[0m     \u001b[38;5;124m\"\u001b[39m\u001b[38;5;124mtimeout\u001b[39m\u001b[38;5;124m\"\u001b[39m: timeout,\n\u001b[1;32m    586\u001b[0m     \u001b[38;5;124m\"\u001b[39m\u001b[38;5;124mallow_redirects\u001b[39m\u001b[38;5;124m\"\u001b[39m: allow_redirects,\n\u001b[1;32m    587\u001b[0m }\n\u001b[1;32m    588\u001b[0m send_kwargs\u001b[38;5;241m.\u001b[39mupdate(settings)\n\u001b[0;32m--> 589\u001b[0m resp \u001b[38;5;241m=\u001b[39m \u001b[38;5;28mself\u001b[39m\u001b[38;5;241m.\u001b[39msend(prep, \u001b[38;5;241m*\u001b[39m\u001b[38;5;241m*\u001b[39msend_kwargs)\n\u001b[1;32m    591\u001b[0m \u001b[38;5;28;01mreturn\u001b[39;00m resp\n",
      "File \u001b[0;32m/Applications/miniconda3/envs/fire/lib/python3.12/site-packages/requests/sessions.py:703\u001b[0m, in \u001b[0;36mSession.send\u001b[0;34m(self, request, **kwargs)\u001b[0m\n\u001b[1;32m    700\u001b[0m start \u001b[38;5;241m=\u001b[39m preferred_clock()\n\u001b[1;32m    702\u001b[0m \u001b[38;5;66;03m# Send the request\u001b[39;00m\n\u001b[0;32m--> 703\u001b[0m r \u001b[38;5;241m=\u001b[39m adapter\u001b[38;5;241m.\u001b[39msend(request, \u001b[38;5;241m*\u001b[39m\u001b[38;5;241m*\u001b[39mkwargs)\n\u001b[1;32m    705\u001b[0m \u001b[38;5;66;03m# Total elapsed time of the request (approximately)\u001b[39;00m\n\u001b[1;32m    706\u001b[0m elapsed \u001b[38;5;241m=\u001b[39m preferred_clock() \u001b[38;5;241m-\u001b[39m start\n",
      "File \u001b[0;32m/Applications/miniconda3/envs/fire/lib/python3.12/site-packages/requests/adapters.py:667\u001b[0m, in \u001b[0;36mHTTPAdapter.send\u001b[0;34m(self, request, stream, timeout, verify, cert, proxies)\u001b[0m\n\u001b[1;32m    664\u001b[0m     timeout \u001b[38;5;241m=\u001b[39m TimeoutSauce(connect\u001b[38;5;241m=\u001b[39mtimeout, read\u001b[38;5;241m=\u001b[39mtimeout)\n\u001b[1;32m    666\u001b[0m \u001b[38;5;28;01mtry\u001b[39;00m:\n\u001b[0;32m--> 667\u001b[0m     resp \u001b[38;5;241m=\u001b[39m conn\u001b[38;5;241m.\u001b[39murlopen(\n\u001b[1;32m    668\u001b[0m         method\u001b[38;5;241m=\u001b[39mrequest\u001b[38;5;241m.\u001b[39mmethod,\n\u001b[1;32m    669\u001b[0m         url\u001b[38;5;241m=\u001b[39murl,\n\u001b[1;32m    670\u001b[0m         body\u001b[38;5;241m=\u001b[39mrequest\u001b[38;5;241m.\u001b[39mbody,\n\u001b[1;32m    671\u001b[0m         headers\u001b[38;5;241m=\u001b[39mrequest\u001b[38;5;241m.\u001b[39mheaders,\n\u001b[1;32m    672\u001b[0m         redirect\u001b[38;5;241m=\u001b[39m\u001b[38;5;28;01mFalse\u001b[39;00m,\n\u001b[1;32m    673\u001b[0m         assert_same_host\u001b[38;5;241m=\u001b[39m\u001b[38;5;28;01mFalse\u001b[39;00m,\n\u001b[1;32m    674\u001b[0m         preload_content\u001b[38;5;241m=\u001b[39m\u001b[38;5;28;01mFalse\u001b[39;00m,\n\u001b[1;32m    675\u001b[0m         decode_content\u001b[38;5;241m=\u001b[39m\u001b[38;5;28;01mFalse\u001b[39;00m,\n\u001b[1;32m    676\u001b[0m         retries\u001b[38;5;241m=\u001b[39m\u001b[38;5;28mself\u001b[39m\u001b[38;5;241m.\u001b[39mmax_retries,\n\u001b[1;32m    677\u001b[0m         timeout\u001b[38;5;241m=\u001b[39mtimeout,\n\u001b[1;32m    678\u001b[0m         chunked\u001b[38;5;241m=\u001b[39mchunked,\n\u001b[1;32m    679\u001b[0m     )\n\u001b[1;32m    681\u001b[0m \u001b[38;5;28;01mexcept\u001b[39;00m (ProtocolError, \u001b[38;5;167;01mOSError\u001b[39;00m) \u001b[38;5;28;01mas\u001b[39;00m err:\n\u001b[1;32m    682\u001b[0m     \u001b[38;5;28;01mraise\u001b[39;00m \u001b[38;5;167;01mConnectionError\u001b[39;00m(err, request\u001b[38;5;241m=\u001b[39mrequest)\n",
      "File \u001b[0;32m/Applications/miniconda3/envs/fire/lib/python3.12/site-packages/urllib3/connectionpool.py:789\u001b[0m, in \u001b[0;36mHTTPConnectionPool.urlopen\u001b[0;34m(self, method, url, body, headers, retries, redirect, assert_same_host, timeout, pool_timeout, release_conn, chunked, body_pos, preload_content, decode_content, **response_kw)\u001b[0m\n\u001b[1;32m    786\u001b[0m response_conn \u001b[38;5;241m=\u001b[39m conn \u001b[38;5;28;01mif\u001b[39;00m \u001b[38;5;129;01mnot\u001b[39;00m release_conn \u001b[38;5;28;01melse\u001b[39;00m \u001b[38;5;28;01mNone\u001b[39;00m\n\u001b[1;32m    788\u001b[0m \u001b[38;5;66;03m# Make the request on the HTTPConnection object\u001b[39;00m\n\u001b[0;32m--> 789\u001b[0m response \u001b[38;5;241m=\u001b[39m \u001b[38;5;28mself\u001b[39m\u001b[38;5;241m.\u001b[39m_make_request(\n\u001b[1;32m    790\u001b[0m     conn,\n\u001b[1;32m    791\u001b[0m     method,\n\u001b[1;32m    792\u001b[0m     url,\n\u001b[1;32m    793\u001b[0m     timeout\u001b[38;5;241m=\u001b[39mtimeout_obj,\n\u001b[1;32m    794\u001b[0m     body\u001b[38;5;241m=\u001b[39mbody,\n\u001b[1;32m    795\u001b[0m     headers\u001b[38;5;241m=\u001b[39mheaders,\n\u001b[1;32m    796\u001b[0m     chunked\u001b[38;5;241m=\u001b[39mchunked,\n\u001b[1;32m    797\u001b[0m     retries\u001b[38;5;241m=\u001b[39mretries,\n\u001b[1;32m    798\u001b[0m     response_conn\u001b[38;5;241m=\u001b[39mresponse_conn,\n\u001b[1;32m    799\u001b[0m     preload_content\u001b[38;5;241m=\u001b[39mpreload_content,\n\u001b[1;32m    800\u001b[0m     decode_content\u001b[38;5;241m=\u001b[39mdecode_content,\n\u001b[1;32m    801\u001b[0m     \u001b[38;5;241m*\u001b[39m\u001b[38;5;241m*\u001b[39mresponse_kw,\n\u001b[1;32m    802\u001b[0m )\n\u001b[1;32m    804\u001b[0m \u001b[38;5;66;03m# Everything went great!\u001b[39;00m\n\u001b[1;32m    805\u001b[0m clean_exit \u001b[38;5;241m=\u001b[39m \u001b[38;5;28;01mTrue\u001b[39;00m\n",
      "File \u001b[0;32m/Applications/miniconda3/envs/fire/lib/python3.12/site-packages/urllib3/connectionpool.py:536\u001b[0m, in \u001b[0;36mHTTPConnectionPool._make_request\u001b[0;34m(self, conn, method, url, body, headers, retries, timeout, chunked, response_conn, preload_content, decode_content, enforce_content_length)\u001b[0m\n\u001b[1;32m    534\u001b[0m \u001b[38;5;66;03m# Receive the response from the server\u001b[39;00m\n\u001b[1;32m    535\u001b[0m \u001b[38;5;28;01mtry\u001b[39;00m:\n\u001b[0;32m--> 536\u001b[0m     response \u001b[38;5;241m=\u001b[39m conn\u001b[38;5;241m.\u001b[39mgetresponse()\n\u001b[1;32m    537\u001b[0m \u001b[38;5;28;01mexcept\u001b[39;00m (BaseSSLError, \u001b[38;5;167;01mOSError\u001b[39;00m) \u001b[38;5;28;01mas\u001b[39;00m e:\n\u001b[1;32m    538\u001b[0m     \u001b[38;5;28mself\u001b[39m\u001b[38;5;241m.\u001b[39m_raise_timeout(err\u001b[38;5;241m=\u001b[39me, url\u001b[38;5;241m=\u001b[39murl, timeout_value\u001b[38;5;241m=\u001b[39mread_timeout)\n",
      "File \u001b[0;32m/Applications/miniconda3/envs/fire/lib/python3.12/site-packages/urllib3/connection.py:464\u001b[0m, in \u001b[0;36mHTTPConnection.getresponse\u001b[0;34m(self)\u001b[0m\n\u001b[1;32m    461\u001b[0m \u001b[38;5;28;01mfrom\u001b[39;00m \u001b[38;5;21;01m.\u001b[39;00m\u001b[38;5;21;01mresponse\u001b[39;00m \u001b[38;5;28;01mimport\u001b[39;00m HTTPResponse\n\u001b[1;32m    463\u001b[0m \u001b[38;5;66;03m# Get the response from http.client.HTTPConnection\u001b[39;00m\n\u001b[0;32m--> 464\u001b[0m httplib_response \u001b[38;5;241m=\u001b[39m \u001b[38;5;28msuper\u001b[39m()\u001b[38;5;241m.\u001b[39mgetresponse()\n\u001b[1;32m    466\u001b[0m \u001b[38;5;28;01mtry\u001b[39;00m:\n\u001b[1;32m    467\u001b[0m     assert_header_parsing(httplib_response\u001b[38;5;241m.\u001b[39mmsg)\n",
      "File \u001b[0;32m/Applications/miniconda3/envs/fire/lib/python3.12/http/client.py:1428\u001b[0m, in \u001b[0;36mHTTPConnection.getresponse\u001b[0;34m(self)\u001b[0m\n\u001b[1;32m   1426\u001b[0m \u001b[38;5;28;01mtry\u001b[39;00m:\n\u001b[1;32m   1427\u001b[0m     \u001b[38;5;28;01mtry\u001b[39;00m:\n\u001b[0;32m-> 1428\u001b[0m         response\u001b[38;5;241m.\u001b[39mbegin()\n\u001b[1;32m   1429\u001b[0m     \u001b[38;5;28;01mexcept\u001b[39;00m \u001b[38;5;167;01mConnectionError\u001b[39;00m:\n\u001b[1;32m   1430\u001b[0m         \u001b[38;5;28mself\u001b[39m\u001b[38;5;241m.\u001b[39mclose()\n",
      "File \u001b[0;32m/Applications/miniconda3/envs/fire/lib/python3.12/http/client.py:331\u001b[0m, in \u001b[0;36mHTTPResponse.begin\u001b[0;34m(self)\u001b[0m\n\u001b[1;32m    329\u001b[0m \u001b[38;5;66;03m# read until we get a non-100 response\u001b[39;00m\n\u001b[1;32m    330\u001b[0m \u001b[38;5;28;01mwhile\u001b[39;00m \u001b[38;5;28;01mTrue\u001b[39;00m:\n\u001b[0;32m--> 331\u001b[0m     version, status, reason \u001b[38;5;241m=\u001b[39m \u001b[38;5;28mself\u001b[39m\u001b[38;5;241m.\u001b[39m_read_status()\n\u001b[1;32m    332\u001b[0m     \u001b[38;5;28;01mif\u001b[39;00m status \u001b[38;5;241m!=\u001b[39m CONTINUE:\n\u001b[1;32m    333\u001b[0m         \u001b[38;5;28;01mbreak\u001b[39;00m\n",
      "File \u001b[0;32m/Applications/miniconda3/envs/fire/lib/python3.12/http/client.py:292\u001b[0m, in \u001b[0;36mHTTPResponse._read_status\u001b[0;34m(self)\u001b[0m\n\u001b[1;32m    291\u001b[0m \u001b[38;5;28;01mdef\u001b[39;00m \u001b[38;5;21m_read_status\u001b[39m(\u001b[38;5;28mself\u001b[39m):\n\u001b[0;32m--> 292\u001b[0m     line \u001b[38;5;241m=\u001b[39m \u001b[38;5;28mstr\u001b[39m(\u001b[38;5;28mself\u001b[39m\u001b[38;5;241m.\u001b[39mfp\u001b[38;5;241m.\u001b[39mreadline(_MAXLINE \u001b[38;5;241m+\u001b[39m \u001b[38;5;241m1\u001b[39m), \u001b[38;5;124m\"\u001b[39m\u001b[38;5;124miso-8859-1\u001b[39m\u001b[38;5;124m\"\u001b[39m)\n\u001b[1;32m    293\u001b[0m     \u001b[38;5;28;01mif\u001b[39;00m \u001b[38;5;28mlen\u001b[39m(line) \u001b[38;5;241m>\u001b[39m _MAXLINE:\n\u001b[1;32m    294\u001b[0m         \u001b[38;5;28;01mraise\u001b[39;00m LineTooLong(\u001b[38;5;124m\"\u001b[39m\u001b[38;5;124mstatus line\u001b[39m\u001b[38;5;124m\"\u001b[39m)\n",
      "File \u001b[0;32m/Applications/miniconda3/envs/fire/lib/python3.12/socket.py:708\u001b[0m, in \u001b[0;36mSocketIO.readinto\u001b[0;34m(self, b)\u001b[0m\n\u001b[1;32m    706\u001b[0m \u001b[38;5;28;01mwhile\u001b[39;00m \u001b[38;5;28;01mTrue\u001b[39;00m:\n\u001b[1;32m    707\u001b[0m     \u001b[38;5;28;01mtry\u001b[39;00m:\n\u001b[0;32m--> 708\u001b[0m         \u001b[38;5;28;01mreturn\u001b[39;00m \u001b[38;5;28mself\u001b[39m\u001b[38;5;241m.\u001b[39m_sock\u001b[38;5;241m.\u001b[39mrecv_into(b)\n\u001b[1;32m    709\u001b[0m     \u001b[38;5;28;01mexcept\u001b[39;00m timeout:\n\u001b[1;32m    710\u001b[0m         \u001b[38;5;28mself\u001b[39m\u001b[38;5;241m.\u001b[39m_timeout_occurred \u001b[38;5;241m=\u001b[39m \u001b[38;5;28;01mTrue\u001b[39;00m\n",
      "File \u001b[0;32m/Applications/miniconda3/envs/fire/lib/python3.12/ssl.py:1252\u001b[0m, in \u001b[0;36mSSLSocket.recv_into\u001b[0;34m(self, buffer, nbytes, flags)\u001b[0m\n\u001b[1;32m   1248\u001b[0m     \u001b[38;5;28;01mif\u001b[39;00m flags \u001b[38;5;241m!=\u001b[39m \u001b[38;5;241m0\u001b[39m:\n\u001b[1;32m   1249\u001b[0m         \u001b[38;5;28;01mraise\u001b[39;00m \u001b[38;5;167;01mValueError\u001b[39;00m(\n\u001b[1;32m   1250\u001b[0m           \u001b[38;5;124m\"\u001b[39m\u001b[38;5;124mnon-zero flags not allowed in calls to recv_into() on \u001b[39m\u001b[38;5;132;01m%s\u001b[39;00m\u001b[38;5;124m\"\u001b[39m \u001b[38;5;241m%\u001b[39m\n\u001b[1;32m   1251\u001b[0m           \u001b[38;5;28mself\u001b[39m\u001b[38;5;241m.\u001b[39m\u001b[38;5;18m__class__\u001b[39m)\n\u001b[0;32m-> 1252\u001b[0m     \u001b[38;5;28;01mreturn\u001b[39;00m \u001b[38;5;28mself\u001b[39m\u001b[38;5;241m.\u001b[39mread(nbytes, buffer)\n\u001b[1;32m   1253\u001b[0m \u001b[38;5;28;01melse\u001b[39;00m:\n\u001b[1;32m   1254\u001b[0m     \u001b[38;5;28;01mreturn\u001b[39;00m \u001b[38;5;28msuper\u001b[39m()\u001b[38;5;241m.\u001b[39mrecv_into(buffer, nbytes, flags)\n",
      "File \u001b[0;32m/Applications/miniconda3/envs/fire/lib/python3.12/ssl.py:1104\u001b[0m, in \u001b[0;36mSSLSocket.read\u001b[0;34m(self, len, buffer)\u001b[0m\n\u001b[1;32m   1102\u001b[0m \u001b[38;5;28;01mtry\u001b[39;00m:\n\u001b[1;32m   1103\u001b[0m     \u001b[38;5;28;01mif\u001b[39;00m buffer \u001b[38;5;129;01mis\u001b[39;00m \u001b[38;5;129;01mnot\u001b[39;00m \u001b[38;5;28;01mNone\u001b[39;00m:\n\u001b[0;32m-> 1104\u001b[0m         \u001b[38;5;28;01mreturn\u001b[39;00m \u001b[38;5;28mself\u001b[39m\u001b[38;5;241m.\u001b[39m_sslobj\u001b[38;5;241m.\u001b[39mread(\u001b[38;5;28mlen\u001b[39m, buffer)\n\u001b[1;32m   1105\u001b[0m     \u001b[38;5;28;01melse\u001b[39;00m:\n\u001b[1;32m   1106\u001b[0m         \u001b[38;5;28;01mreturn\u001b[39;00m \u001b[38;5;28mself\u001b[39m\u001b[38;5;241m.\u001b[39m_sslobj\u001b[38;5;241m.\u001b[39mread(\u001b[38;5;28mlen\u001b[39m)\n",
      "\u001b[0;31mKeyboardInterrupt\u001b[0m: "
     ]
    }
   ],
   "source": [
    "# Create a map centered on the CONUS\n",
    "Map = geemap.Map(center=[40, -96], zoom=4)\n",
    "\n",
    "# Get the first image from the collection\n",
    "# idx =22\n",
    "\n",
    "# print(feature_names[idx])\n",
    "# img = res[-1]\n",
    "\n",
    "# Add the first image to the map\n",
    "viz_params = {\n",
    "    'min': 0,\n",
    "    'max': 1,\n",
    "    'palette': ['black','red'],\n",
    "    'opacity':0.7\n",
    "}\n",
    "\n",
    "Map.addLayer(res, viz_params, )#feature_names[idx])\n",
    "Map"
   ]
  },
  {
   "cell_type": "code",
   "execution_count": null,
   "id": "c7eed8c9-e019-4ceb-8226-14d28a265087",
   "metadata": {},
   "outputs": [],
   "source": []
  }
 ],
 "metadata": {
  "kernelspec": {
   "display_name": "Python 3 (ipykernel)",
   "language": "python",
   "name": "python3"
  },
  "language_info": {
   "codemirror_mode": {
    "name": "ipython",
    "version": 3
   },
   "file_extension": ".py",
   "mimetype": "text/x-python",
   "name": "python",
   "nbconvert_exporter": "python",
   "pygments_lexer": "ipython3",
   "version": "3.12.4"
  }
 },
 "nbformat": 4,
 "nbformat_minor": 5
}
