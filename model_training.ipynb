{
 "cells": [
  {
   "cell_type": "code",
   "execution_count": 3,
   "id": "78c6c6e0-48ab-4b40-a9ec-36318c492974",
   "metadata": {},
   "outputs": [],
   "source": [
    "import torch\n",
    "import torch.nn as nn\n",
    "import torch.nn.functional as F\n",
    "from e2cnn import gspaces\n",
    "from e2cnn import nn as enn\n",
    "\n",
    "from tfrecord.torch.dataset import MultiTFRecordDataset\n",
    "from torch.utils.data import Dataset, DataLoader\n",
    "import os\n",
    "from os import path as osp\n",
    "\n",
    "from torch.utils.data import IterableDataset\n",
    "from fuel_embedding.utils import load\n",
    "import matplotlib.pyplot as plt\n",
    "import deepdish as dd\n",
    "\n",
    "from trainer import Experiment\n",
    "\n",
    "import plotly.io as pio\n",
    "pio.renderers.default = 'notebook'"
   ]
  },
  {
   "cell_type": "code",
   "execution_count": 6,
   "id": "50f3126e-5977-4cc9-907f-2fa37ca138f1",
   "metadata": {},
   "outputs": [],
   "source": [
    "config = {\n",
    "    'dataset_directory':'ndws_western_dataset',\n",
    "    'features_to_drop':['water',\n",
    "                         'chili',\n",
    "                        'impervious',\n",
    "                        # 'population',\n",
    "                        # 'tmp_day',\n",
    "                        # 'pr',\n",
    "                        # 'tmp_75',\n",
    "                        'fuel1','fuel2','fuel3',\n",
    "                        'bi',\n",
    "                        'gust_med',\n",
    "                        'wind_75',\n",
    "                        'wdir_gust'\n",
    "                       ],\n",
    "    'data_config_file':'ndws_data_config.py',\n",
    "    'rescale':True,\n",
    "    'model_config_file':'model_configs/huot_autoencoder.py',\n",
    "\n",
    "    'batch_size':128,\n",
    "    'loss_weights':[1,4],\n",
    "    'early_stop':True,\n",
    "    'early_stop_start':10,\n",
    "    'patience':5,\n",
    "    'device':'cuda',\n",
    "    'learning_rate':1e-4,\n",
    "    'epochs':80,\n",
    "    'focal_gamma':0.0001,\n",
    "    'lambda_sparse':0,\n",
    "\n",
    "    'dropout_prob':0.1,\n",
    "    'conv_channels':[16,32,64],\n",
    "    'final_channels':7,\n",
    "    'num_attention_blocks':0,\n",
    "\n",
    "    'crop_augment':True,\n",
    "    'rot_augment':True,\n",
    "    'flip_augment':True,\n",
    "}"
   ]
  },
  {
   "cell_type": "code",
   "execution_count": 7,
   "id": "78fdaf30-a81a-4c36-9139-2be3c3901cc4",
   "metadata": {},
   "outputs": [
    {
     "name": "stdout",
     "output_type": "stream",
     "text": [
      "Loading 'ndws_data_config' from /home/abby/code/ndws/ndws_data_config.py\n",
      "Loading 'huot_autoencoder' from /home/abby/code/ndws/model_configs/huot_autoencoder.py\n",
      "model_experiments/huot_baseline/bs128_esTrue_esS10_pat5_lr0.0001_gamma0.0001_lSp0_drp0.1_nAtt0_inCh12_/2\n"
     ]
    }
   ],
   "source": [
    "exp = Experiment('huot_baseline',config)"
   ]
  },
  {
   "cell_type": "code",
   "execution_count": 8,
   "id": "fff55231-75d1-49dc-b16f-8c72ee14006c",
   "metadata": {},
   "outputs": [
    {
     "data": {
      "text/plain": [
       "['elevation',\n",
       " 'population',\n",
       " 'NDVI',\n",
       " 'pdsi',\n",
       " 'pr',\n",
       " 'erc',\n",
       " 'avg_sph',\n",
       " 'tmp_day',\n",
       " 'tmp_75',\n",
       " 'wind_avg',\n",
       " 'wdir_wind',\n",
       " 'viirs_PrevFireMask']"
      ]
     },
     "execution_count": 8,
     "metadata": {},
     "output_type": "execute_result"
    }
   ],
   "source": [
    "exp.config['features']"
   ]
  },
  {
   "cell_type": "code",
   "execution_count": 10,
   "id": "529b58fa-6684-4b3e-b9ea-fe5e1edcee92",
   "metadata": {},
   "outputs": [
    {
     "name": "stdout",
     "output_type": "stream",
     "text": [
      "torch.Size([128, 1, 32, 32])\n"
     ]
    }
   ],
   "source": [
    "x = torch.randn(128,exp.config['in_channels'],32,32).to('cuda')\n",
    "with torch.no_grad():\n",
    "    y = exp.model(x)\n",
    "    print(y.shape)"
   ]
  },
  {
   "cell_type": "code",
   "execution_count": null,
   "id": "2cd101b1-84c3-4c39-b577-7bb7b641c9ba",
   "metadata": {},
   "outputs": [
    {
     "name": "stderr",
     "output_type": "stream",
     "text": [
      "Training Model on 80 epochs:   0%|                                                | 0/80 [00:00<?, ?it/s]"
     ]
    },
    {
     "data": {
      "application/vnd.jupyter.widget-view+json": {
       "model_id": "ef925cbc0a1f453b8fd02877b88f131b",
       "version_major": 2,
       "version_minor": 0
      },
      "text/plain": [
       "0 training-batch [00:00, ? training-batch/s]"
      ]
     },
     "metadata": {},
     "output_type": "display_data"
    },
    {
     "name": "stdout",
     "output_type": "stream",
     "text": [
      "Train loss: 3.1417\n"
     ]
    },
    {
     "data": {
      "application/vnd.jupyter.widget-view+json": {
       "model_id": "480cc0a2cb9c433c9fad0a07250b8749",
       "version_major": 2,
       "version_minor": 0
      },
      "text/plain": [
       "0 validating-batch [00:00, ? validating-batch/s]"
      ]
     },
     "metadata": {},
     "output_type": "display_data"
    },
    {
     "name": "stderr",
     "output_type": "stream",
     "text": [
      "Training Model on 80 epochs:   1%|▍                                    | 1/80 [01:50<2:25:34, 110.56s/it]"
     ]
    },
    {
     "name": "stdout",
     "output_type": "stream",
     "text": [
      "Validation loss: 2.8225\n"
     ]
    },
    {
     "data": {
      "application/vnd.jupyter.widget-view+json": {
       "model_id": "9f1cf3a23a174d349a38acca00e9ba44",
       "version_major": 2,
       "version_minor": 0
      },
      "text/plain": [
       "0 training-batch [00:00, ? training-batch/s]"
      ]
     },
     "metadata": {},
     "output_type": "display_data"
    },
    {
     "name": "stdout",
     "output_type": "stream",
     "text": [
      "Train loss: 2.9706\n"
     ]
    },
    {
     "data": {
      "application/vnd.jupyter.widget-view+json": {
       "model_id": "56f6a895c5b440f8aaa5b21020cb7c1f",
       "version_major": 2,
       "version_minor": 0
      },
      "text/plain": [
       "0 validating-batch [00:00, ? validating-batch/s]"
      ]
     },
     "metadata": {},
     "output_type": "display_data"
    }
   ],
   "source": [
    "exp.train()"
   ]
  }
 ],
 "metadata": {
  "kernelspec": {
   "display_name": "Python 3 (ipykernel)",
   "language": "python",
   "name": "python3"
  },
  "language_info": {
   "codemirror_mode": {
    "name": "ipython",
    "version": 3
   },
   "file_extension": ".py",
   "mimetype": "text/x-python",
   "name": "python",
   "nbconvert_exporter": "python",
   "pygments_lexer": "ipython3",
   "version": "3.12.8"
  }
 },
 "nbformat": 4,
 "nbformat_minor": 5
}
