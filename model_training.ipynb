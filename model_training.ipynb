{
 "cells": [
  {
   "cell_type": "code",
   "execution_count": 3,
   "id": "78c6c6e0-48ab-4b40-a9ec-36318c492974",
   "metadata": {},
   "outputs": [],
   "source": [
    "import torch\n",
    "import torch.nn as nn\n",
    "import torch.nn.functional as F\n",
    "from e2cnn import gspaces\n",
    "from e2cnn import nn as enn\n",
    "\n",
    "from tfrecord.torch.dataset import MultiTFRecordDataset\n",
    "from torch.utils.data import Dataset, DataLoader\n",
    "import os\n",
    "from os import path as osp\n",
    "\n",
    "from torch.utils.data import IterableDataset\n",
    "from fuel_embedding.utils import load\n",
    "import matplotlib.pyplot as plt\n",
    "import deepdish as dd\n",
    "\n",
    "from trainer import Experiment\n",
    "\n",
    "import plotly.io as pio\n",
    "pio.renderers.default = 'notebook'"
   ]
  },
  {
   "cell_type": "code",
   "execution_count": 44,
   "id": "50f3126e-5977-4cc9-907f-2fa37ca138f1",
   "metadata": {},
   "outputs": [],
   "source": [
    "config = {\n",
    "    'dataset_directory':'ndws_western_dataset',\n",
    "    'features_to_drop':['water',\n",
    "                         'chili',\n",
    "                        'impervious',\n",
    "                        # 'population',\n",
    "                        # 'tmp_day',\n",
    "                        # 'pr',\n",
    "                        # 'tmp_75',\n",
    "                        'fuel1','fuel2','fuel3',\n",
    "                        'bi',\n",
    "                        'gust_med',\n",
    "                        'wind_75',\n",
    "                        'wdir_gust'\n",
    "                       ],\n",
    "    'data_config_file':'ndws_data_config.py',\n",
    "    'rescale':True,\n",
    "    'model_config_file':'model_configs/huot_autoencoder.py',\n",
    "\n",
    "    'batch_size':128,\n",
    "    'loss_weights':[1,4],\n",
    "    'early_stop':True,\n",
    "    'early_stop_start':10,\n",
    "    'patience':5,\n",
    "    'device':'mps',\n",
    "    'learning_rate':1e-4,\n",
    "    'epochs':80,\n",
    "    'focal_gamma':0.0001,\n",
    "    'lambda_sparse':0,\n",
    "\n",
    "    'dropout_prob':0.1,\n",
    "    'conv_channels':[16,32,64],\n",
    "    'final_channels':7,\n",
    "    'num_attention_blocks':0,\n",
    "\n",
    "    'crop_augment':True,\n",
    "    'rot_augment':True,\n",
    "    'flip_augment':True,\n",
    "}"
   ]
  },
  {
   "cell_type": "code",
   "execution_count": 45,
   "id": "78fdaf30-a81a-4c36-9139-2be3c3901cc4",
   "metadata": {},
   "outputs": [
    {
     "name": "stdout",
     "output_type": "stream",
     "text": [
      "Loading 'ndws_data_config' from /Users/gorg/Documents/ndws/ndws_data_config.py\n",
      "Loading 'huot_autoencoder' from /Users/gorg/Documents/ndws/model_configs/huot_autoencoder.py\n",
      "model_experiments/huot_baseline/bs128_esTrue_esS10_pat5_lr0.0001_gamma0.0001_lSp0_drp0.1_nAtt0_inCh12_/1\n"
     ]
    }
   ],
   "source": [
    "exp = Experiment('huot_baseline',config)"
   ]
  },
  {
   "cell_type": "code",
   "execution_count": 47,
   "id": "fff55231-75d1-49dc-b16f-8c72ee14006c",
   "metadata": {},
   "outputs": [
    {
     "data": {
      "text/plain": [
       "['elevation',\n",
       " 'population',\n",
       " 'NDVI',\n",
       " 'pdsi',\n",
       " 'pr',\n",
       " 'erc',\n",
       " 'avg_sph',\n",
       " 'tmp_day',\n",
       " 'tmp_75',\n",
       " 'wind_avg',\n",
       " 'wdir_wind',\n",
       " 'viirs_PrevFireMask']"
      ]
     },
     "execution_count": 47,
     "metadata": {},
     "output_type": "execute_result"
    }
   ],
   "source": [
    "exp.config['features']"
   ]
  },
  {
   "cell_type": "code",
   "execution_count": 48,
   "id": "529b58fa-6684-4b3e-b9ea-fe5e1edcee92",
   "metadata": {},
   "outputs": [
    {
     "name": "stdout",
     "output_type": "stream",
     "text": [
      "torch.Size([128, 1, 32, 32])\n"
     ]
    }
   ],
   "source": [
    "x = torch.randn(128,exp.config['in_channels'],32,32).to('mps')\n",
    "with torch.no_grad():\n",
    "    y = exp.model(x)\n",
    "    print(y.shape)"
   ]
  },
  {
   "cell_type": "code",
   "execution_count": 49,
   "id": "2cd101b1-84c3-4c39-b577-7bb7b641c9ba",
   "metadata": {},
   "outputs": [
    {
     "name": "stderr",
     "output_type": "stream",
     "text": [
      "Training Model on 80 epochs:   0%|                       | 0/80 [00:00<?, ?it/s]"
     ]
    },
    {
     "data": {
      "application/vnd.jupyter.widget-view+json": {
       "model_id": "b2e32826d2554357b95991905e7dba44",
       "version_major": 2,
       "version_minor": 0
      },
      "text/plain": [
       "0 training-batch [00:00, ? training-batch/s]"
      ]
     },
     "metadata": {},
     "output_type": "display_data"
    },
    {
     "name": "stdout",
     "output_type": "stream",
     "text": [
      "Train loss: 3.2472\n"
     ]
    },
    {
     "data": {
      "application/vnd.jupyter.widget-view+json": {
       "model_id": "c9ab6d70bb8d4714a0e8bdefb35bc378",
       "version_major": 2,
       "version_minor": 0
      },
      "text/plain": [
       "0 validating-batch [00:00, ? validating-batch/s]"
      ]
     },
     "metadata": {},
     "output_type": "display_data"
    },
    {
     "name": "stderr",
     "output_type": "stream",
     "text": [
      "Training Model on 80 epochs:   1%|▏         | 1/80 [19:27<25:36:34, 1167.01s/it]"
     ]
    },
    {
     "name": "stdout",
     "output_type": "stream",
     "text": [
      "Validation loss: 2.9294\n"
     ]
    },
    {
     "data": {
      "application/vnd.jupyter.widget-view+json": {
       "model_id": "6ec12e6bb4df4a2c87ad5b7491c0a02a",
       "version_major": 2,
       "version_minor": 0
      },
      "text/plain": [
       "0 training-batch [00:00, ? training-batch/s]"
      ]
     },
     "metadata": {},
     "output_type": "display_data"
    },
    {
     "name": "stdout",
     "output_type": "stream",
     "text": [
      "Train loss: 2.9382\n"
     ]
    },
    {
     "data": {
      "application/vnd.jupyter.widget-view+json": {
       "model_id": "5b22cd47bc8748e199498105072331d5",
       "version_major": 2,
       "version_minor": 0
      },
      "text/plain": [
       "0 validating-batch [00:00, ? validating-batch/s]"
      ]
     },
     "metadata": {},
     "output_type": "display_data"
    },
    {
     "name": "stderr",
     "output_type": "stream",
     "text": [
      "Training Model on 80 epochs:   2%|▎         | 2/80 [38:48<25:13:00, 1163.85s/it]"
     ]
    },
    {
     "name": "stdout",
     "output_type": "stream",
     "text": [
      "Validation loss: 2.7849\n"
     ]
    },
    {
     "data": {
      "application/vnd.jupyter.widget-view+json": {
       "model_id": "0a1e5c1d9a1b49c989228e33e088128c",
       "version_major": 2,
       "version_minor": 0
      },
      "text/plain": [
       "0 training-batch [00:00, ? training-batch/s]"
      ]
     },
     "metadata": {},
     "output_type": "display_data"
    },
    {
     "name": "stdout",
     "output_type": "stream",
     "text": [
      "Train loss: 2.8992\n"
     ]
    },
    {
     "data": {
      "application/vnd.jupyter.widget-view+json": {
       "model_id": "6c9bcef3d5d44dbebf470062325f005c",
       "version_major": 2,
       "version_minor": 0
      },
      "text/plain": [
       "0 validating-batch [00:00, ? validating-batch/s]"
      ]
     },
     "metadata": {},
     "output_type": "display_data"
    },
    {
     "name": "stderr",
     "output_type": "stream",
     "text": [
      "Training Model on 80 epochs:   2%|▎         | 2/80 [56:38<36:48:57, 1699.20s/it]\n"
     ]
    },
    {
     "ename": "KeyboardInterrupt",
     "evalue": "",
     "output_type": "error",
     "traceback": [
      "\u001b[0;31m---------------------------------------------------------------------------\u001b[0m",
      "\u001b[0;31mKeyboardInterrupt\u001b[0m                         Traceback (most recent call last)",
      "Cell \u001b[0;32mIn[49], line 1\u001b[0m\n\u001b[0;32m----> 1\u001b[0m exp\u001b[38;5;241m.\u001b[39mtrain()\n",
      "File \u001b[0;32m~/Documents/ndws/trainer.py:528\u001b[0m, in \u001b[0;36mExperiment.train\u001b[0;34m(self)\u001b[0m\n\u001b[1;32m    527\u001b[0m \u001b[38;5;28;01mdef\u001b[39;00m \u001b[38;5;21mtrain\u001b[39m(\u001b[38;5;28mself\u001b[39m):\n\u001b[0;32m--> 528\u001b[0m \t\u001b[38;5;28mself\u001b[39m\u001b[38;5;241m.\u001b[39mtrainer\u001b[38;5;241m.\u001b[39mfit(\u001b[38;5;28mself\u001b[39m\u001b[38;5;241m.\u001b[39mloaders[\u001b[38;5;124m'\u001b[39m\u001b[38;5;124mtrain\u001b[39m\u001b[38;5;124m'\u001b[39m], \u001b[38;5;28mself\u001b[39m\u001b[38;5;241m.\u001b[39mloaders[\u001b[38;5;124m'\u001b[39m\u001b[38;5;124meval\u001b[39m\u001b[38;5;124m'\u001b[39m])\n\u001b[1;32m    530\u001b[0m \t\u001b[38;5;28mself\u001b[39m\u001b[38;5;241m.\u001b[39mtrain_losses_ \u001b[38;5;241m=\u001b[39m \u001b[38;5;28mself\u001b[39m\u001b[38;5;241m.\u001b[39mtrainer\u001b[38;5;241m.\u001b[39mtrain_losses_\n\u001b[1;32m    531\u001b[0m \t\u001b[38;5;28mself\u001b[39m\u001b[38;5;241m.\u001b[39mval_losses_ \u001b[38;5;241m=\u001b[39m \u001b[38;5;28mself\u001b[39m\u001b[38;5;241m.\u001b[39mtrainer\u001b[38;5;241m.\u001b[39mval_losses_\n",
      "File \u001b[0;32m~/Documents/ndws/trainer.py:313\u001b[0m, in \u001b[0;36mTrainer.fit\u001b[0;34m(self, train_loader, val_loader)\u001b[0m\n\u001b[1;32m    311\u001b[0m \u001b[38;5;28;01mif\u001b[39;00m \u001b[38;5;28mself\u001b[39m\u001b[38;5;241m.\u001b[39mstop_epoch \u001b[38;5;129;01mis\u001b[39;00m \u001b[38;5;28;01mNone\u001b[39;00m:\n\u001b[1;32m    312\u001b[0m \t\u001b[38;5;28mself\u001b[39m\u001b[38;5;241m.\u001b[39m_train_one_epoch(train_loader, epoch)\n\u001b[0;32m--> 313\u001b[0m \tval_loss \u001b[38;5;241m=\u001b[39m \u001b[38;5;28mself\u001b[39m\u001b[38;5;241m.\u001b[39m_evaluate(val_loader, epoch)\n\u001b[1;32m    314\u001b[0m \t\u001b[38;5;28mprint\u001b[39m(\u001b[38;5;124mf\u001b[39m\u001b[38;5;124m'\u001b[39m\u001b[38;5;124mValidation loss: \u001b[39m\u001b[38;5;132;01m{\u001b[39;00mval_loss\u001b[38;5;132;01m:\u001b[39;00m\u001b[38;5;124m.4f\u001b[39m\u001b[38;5;132;01m}\u001b[39;00m\u001b[38;5;124m'\u001b[39m)\n\u001b[1;32m    316\u001b[0m \t\u001b[38;5;28;01mif\u001b[39;00m val_loss \u001b[38;5;241m<\u001b[39m \u001b[38;5;28mself\u001b[39m\u001b[38;5;241m.\u001b[39mbest_loss:\n",
      "File \u001b[0;32m/Applications/miniconda3/envs/fire/lib/python3.12/site-packages/torch/utils/_contextlib.py:116\u001b[0m, in \u001b[0;36mcontext_decorator.<locals>.decorate_context\u001b[0;34m(*args, **kwargs)\u001b[0m\n\u001b[1;32m    113\u001b[0m \u001b[38;5;129m@functools\u001b[39m\u001b[38;5;241m.\u001b[39mwraps(func)\n\u001b[1;32m    114\u001b[0m \u001b[38;5;28;01mdef\u001b[39;00m \u001b[38;5;21mdecorate_context\u001b[39m(\u001b[38;5;241m*\u001b[39margs, \u001b[38;5;241m*\u001b[39m\u001b[38;5;241m*\u001b[39mkwargs):\n\u001b[1;32m    115\u001b[0m     \u001b[38;5;28;01mwith\u001b[39;00m ctx_factory():\n\u001b[0;32m--> 116\u001b[0m         \u001b[38;5;28;01mreturn\u001b[39;00m func(\u001b[38;5;241m*\u001b[39margs, \u001b[38;5;241m*\u001b[39m\u001b[38;5;241m*\u001b[39mkwargs)\n",
      "File \u001b[0;32m~/Documents/ndws/trainer.py:439\u001b[0m, in \u001b[0;36mTrainer._evaluate\u001b[0;34m(self, data_loader, epoch)\u001b[0m\n\u001b[1;32m    437\u001b[0m \u001b[38;5;28;01mwith\u001b[39;00m tqdm(data_loader, unit\u001b[38;5;241m=\u001b[39m\u001b[38;5;124m\"\u001b[39m\u001b[38;5;124m validating-batch\u001b[39m\u001b[38;5;124m\"\u001b[39m, colour\u001b[38;5;241m=\u001b[39m\u001b[38;5;124m\"\u001b[39m\u001b[38;5;124mgreen\u001b[39m\u001b[38;5;124m\"\u001b[39m) \u001b[38;5;28;01mas\u001b[39;00m evaluation:\n\u001b[1;32m    438\u001b[0m \t\u001b[38;5;28;01mtry\u001b[39;00m:\n\u001b[0;32m--> 439\u001b[0m \t\t\u001b[38;5;28;01mfor\u001b[39;00m data, labels \u001b[38;5;129;01min\u001b[39;00m evaluation:\n\u001b[1;32m    440\u001b[0m \t\t\tevaluation\u001b[38;5;241m.\u001b[39mset_description(\u001b[38;5;124mf\u001b[39m\u001b[38;5;124m\"\u001b[39m\u001b[38;5;124mValidation\u001b[39m\u001b[38;5;124m\"\u001b[39m)\n\u001b[1;32m    441\u001b[0m \t\t\tdata, labels \u001b[38;5;241m=\u001b[39m data\u001b[38;5;241m.\u001b[39mto(\u001b[38;5;28mself\u001b[39m\u001b[38;5;241m.\u001b[39mdevice), labels\u001b[38;5;241m.\u001b[39mto(\u001b[38;5;28mself\u001b[39m\u001b[38;5;241m.\u001b[39mdevice)\n",
      "File \u001b[0;32m/Applications/miniconda3/envs/fire/lib/python3.12/site-packages/tqdm/notebook.py:250\u001b[0m, in \u001b[0;36mtqdm_notebook.__iter__\u001b[0;34m(self)\u001b[0m\n\u001b[1;32m    248\u001b[0m \u001b[38;5;28;01mtry\u001b[39;00m:\n\u001b[1;32m    249\u001b[0m     it \u001b[38;5;241m=\u001b[39m \u001b[38;5;28msuper\u001b[39m()\u001b[38;5;241m.\u001b[39m\u001b[38;5;21m__iter__\u001b[39m()\n\u001b[0;32m--> 250\u001b[0m     \u001b[38;5;28;01mfor\u001b[39;00m obj \u001b[38;5;129;01min\u001b[39;00m it:\n\u001b[1;32m    251\u001b[0m         \u001b[38;5;66;03m# return super(tqdm...) will not catch exception\u001b[39;00m\n\u001b[1;32m    252\u001b[0m         \u001b[38;5;28;01myield\u001b[39;00m obj\n\u001b[1;32m    253\u001b[0m \u001b[38;5;66;03m# NB: except ... [ as ...] breaks IPython async KeyboardInterrupt\u001b[39;00m\n",
      "File \u001b[0;32m/Applications/miniconda3/envs/fire/lib/python3.12/site-packages/tqdm/std.py:1181\u001b[0m, in \u001b[0;36mtqdm.__iter__\u001b[0;34m(self)\u001b[0m\n\u001b[1;32m   1178\u001b[0m time \u001b[38;5;241m=\u001b[39m \u001b[38;5;28mself\u001b[39m\u001b[38;5;241m.\u001b[39m_time\n\u001b[1;32m   1180\u001b[0m \u001b[38;5;28;01mtry\u001b[39;00m:\n\u001b[0;32m-> 1181\u001b[0m     \u001b[38;5;28;01mfor\u001b[39;00m obj \u001b[38;5;129;01min\u001b[39;00m iterable:\n\u001b[1;32m   1182\u001b[0m         \u001b[38;5;28;01myield\u001b[39;00m obj\n\u001b[1;32m   1183\u001b[0m         \u001b[38;5;66;03m# Update and possibly print the progressbar.\u001b[39;00m\n\u001b[1;32m   1184\u001b[0m         \u001b[38;5;66;03m# Note: does not call self.update(1) for speed optimisation.\u001b[39;00m\n",
      "File \u001b[0;32m~/Documents/ndws/ndws_data_config.py:195\u001b[0m, in \u001b[0;36mndwsDataLoader.__iter__\u001b[0;34m(self)\u001b[0m\n\u001b[1;32m    193\u001b[0m \u001b[38;5;28;01mdef\u001b[39;00m \u001b[38;5;21m__iter__\u001b[39m(\u001b[38;5;28mself\u001b[39m):\n\u001b[1;32m    194\u001b[0m \u001b[38;5;250m\t\u001b[39m\u001b[38;5;124;03m\"\"\"Iterate over preprocessed batches.\"\"\"\u001b[39;00m\n\u001b[0;32m--> 195\u001b[0m \t\u001b[38;5;28;01mfor\u001b[39;00m batch \u001b[38;5;129;01min\u001b[39;00m \u001b[38;5;28mself\u001b[39m\u001b[38;5;241m.\u001b[39mdataloader:\n\u001b[1;32m    196\u001b[0m \t\t\u001b[38;5;28;01myield\u001b[39;00m \u001b[38;5;28mself\u001b[39m\u001b[38;5;241m.\u001b[39mpreprocess_batch(batch)\n",
      "File \u001b[0;32m/Applications/miniconda3/envs/fire/lib/python3.12/site-packages/torch/utils/data/dataloader.py:701\u001b[0m, in \u001b[0;36m_BaseDataLoaderIter.__next__\u001b[0;34m(self)\u001b[0m\n\u001b[1;32m    698\u001b[0m \u001b[38;5;28;01mif\u001b[39;00m \u001b[38;5;28mself\u001b[39m\u001b[38;5;241m.\u001b[39m_sampler_iter \u001b[38;5;129;01mis\u001b[39;00m \u001b[38;5;28;01mNone\u001b[39;00m:\n\u001b[1;32m    699\u001b[0m     \u001b[38;5;66;03m# TODO(https://github.com/pytorch/pytorch/issues/76750)\u001b[39;00m\n\u001b[1;32m    700\u001b[0m     \u001b[38;5;28mself\u001b[39m\u001b[38;5;241m.\u001b[39m_reset()  \u001b[38;5;66;03m# type: ignore[call-arg]\u001b[39;00m\n\u001b[0;32m--> 701\u001b[0m data \u001b[38;5;241m=\u001b[39m \u001b[38;5;28mself\u001b[39m\u001b[38;5;241m.\u001b[39m_next_data()\n\u001b[1;32m    702\u001b[0m \u001b[38;5;28mself\u001b[39m\u001b[38;5;241m.\u001b[39m_num_yielded \u001b[38;5;241m+\u001b[39m\u001b[38;5;241m=\u001b[39m \u001b[38;5;241m1\u001b[39m\n\u001b[1;32m    703\u001b[0m \u001b[38;5;28;01mif\u001b[39;00m (\n\u001b[1;32m    704\u001b[0m     \u001b[38;5;28mself\u001b[39m\u001b[38;5;241m.\u001b[39m_dataset_kind \u001b[38;5;241m==\u001b[39m _DatasetKind\u001b[38;5;241m.\u001b[39mIterable\n\u001b[1;32m    705\u001b[0m     \u001b[38;5;129;01mand\u001b[39;00m \u001b[38;5;28mself\u001b[39m\u001b[38;5;241m.\u001b[39m_IterableDataset_len_called \u001b[38;5;129;01mis\u001b[39;00m \u001b[38;5;129;01mnot\u001b[39;00m \u001b[38;5;28;01mNone\u001b[39;00m\n\u001b[1;32m    706\u001b[0m     \u001b[38;5;129;01mand\u001b[39;00m \u001b[38;5;28mself\u001b[39m\u001b[38;5;241m.\u001b[39m_num_yielded \u001b[38;5;241m>\u001b[39m \u001b[38;5;28mself\u001b[39m\u001b[38;5;241m.\u001b[39m_IterableDataset_len_called\n\u001b[1;32m    707\u001b[0m ):\n",
      "File \u001b[0;32m/Applications/miniconda3/envs/fire/lib/python3.12/site-packages/torch/utils/data/dataloader.py:757\u001b[0m, in \u001b[0;36m_SingleProcessDataLoaderIter._next_data\u001b[0;34m(self)\u001b[0m\n\u001b[1;32m    755\u001b[0m \u001b[38;5;28;01mdef\u001b[39;00m \u001b[38;5;21m_next_data\u001b[39m(\u001b[38;5;28mself\u001b[39m):\n\u001b[1;32m    756\u001b[0m     index \u001b[38;5;241m=\u001b[39m \u001b[38;5;28mself\u001b[39m\u001b[38;5;241m.\u001b[39m_next_index()  \u001b[38;5;66;03m# may raise StopIteration\u001b[39;00m\n\u001b[0;32m--> 757\u001b[0m     data \u001b[38;5;241m=\u001b[39m \u001b[38;5;28mself\u001b[39m\u001b[38;5;241m.\u001b[39m_dataset_fetcher\u001b[38;5;241m.\u001b[39mfetch(index)  \u001b[38;5;66;03m# may raise StopIteration\u001b[39;00m\n\u001b[1;32m    758\u001b[0m     \u001b[38;5;28;01mif\u001b[39;00m \u001b[38;5;28mself\u001b[39m\u001b[38;5;241m.\u001b[39m_pin_memory:\n\u001b[1;32m    759\u001b[0m         data \u001b[38;5;241m=\u001b[39m _utils\u001b[38;5;241m.\u001b[39mpin_memory\u001b[38;5;241m.\u001b[39mpin_memory(data, \u001b[38;5;28mself\u001b[39m\u001b[38;5;241m.\u001b[39m_pin_memory_device)\n",
      "File \u001b[0;32m/Applications/miniconda3/envs/fire/lib/python3.12/site-packages/torch/utils/data/_utils/fetch.py:33\u001b[0m, in \u001b[0;36m_IterableDatasetFetcher.fetch\u001b[0;34m(self, possibly_batched_index)\u001b[0m\n\u001b[1;32m     31\u001b[0m \u001b[38;5;28;01mfor\u001b[39;00m _ \u001b[38;5;129;01min\u001b[39;00m possibly_batched_index:\n\u001b[1;32m     32\u001b[0m     \u001b[38;5;28;01mtry\u001b[39;00m:\n\u001b[0;32m---> 33\u001b[0m         data\u001b[38;5;241m.\u001b[39mappend(\u001b[38;5;28mnext\u001b[39m(\u001b[38;5;28mself\u001b[39m\u001b[38;5;241m.\u001b[39mdataset_iter))\n\u001b[1;32m     34\u001b[0m     \u001b[38;5;28;01mexcept\u001b[39;00m \u001b[38;5;167;01mStopIteration\u001b[39;00m:\n\u001b[1;32m     35\u001b[0m         \u001b[38;5;28mself\u001b[39m\u001b[38;5;241m.\u001b[39mended \u001b[38;5;241m=\u001b[39m \u001b[38;5;28;01mTrue\u001b[39;00m\n",
      "File \u001b[0;32m/Applications/miniconda3/envs/fire/lib/python3.12/site-packages/tfrecord/iterator_utils.py:50\u001b[0m, in \u001b[0;36msample_iterators\u001b[0;34m(iterators, ratios, infinite)\u001b[0m\n\u001b[1;32m     48\u001b[0m choice \u001b[38;5;241m=\u001b[39m np\u001b[38;5;241m.\u001b[39mrandom\u001b[38;5;241m.\u001b[39mchoice(\u001b[38;5;28mlen\u001b[39m(ratios), p\u001b[38;5;241m=\u001b[39mratios)\n\u001b[1;32m     49\u001b[0m \u001b[38;5;28;01mtry\u001b[39;00m:\n\u001b[0;32m---> 50\u001b[0m     \u001b[38;5;28;01myield\u001b[39;00m \u001b[38;5;28mnext\u001b[39m(iterators[choice])\n\u001b[1;32m     51\u001b[0m \u001b[38;5;28;01mexcept\u001b[39;00m \u001b[38;5;167;01mStopIteration\u001b[39;00m:\n\u001b[1;32m     52\u001b[0m     \u001b[38;5;28;01mif\u001b[39;00m iterators:\n",
      "File \u001b[0;32m/Applications/miniconda3/envs/fire/lib/python3.12/site-packages/tfrecord/reader.py:226\u001b[0m, in \u001b[0;36mexample_loader\u001b[0;34m(data_path, index_path, description, shard, compression_type)\u001b[0m\n\u001b[1;32m    224\u001b[0m \u001b[38;5;28;01mfor\u001b[39;00m record \u001b[38;5;129;01min\u001b[39;00m record_iterator:\n\u001b[1;32m    225\u001b[0m     example \u001b[38;5;241m=\u001b[39m example_pb2\u001b[38;5;241m.\u001b[39mExample()\n\u001b[0;32m--> 226\u001b[0m     example\u001b[38;5;241m.\u001b[39mParseFromString(record)\n\u001b[1;32m    228\u001b[0m     \u001b[38;5;28;01myield\u001b[39;00m extract_feature_dict(example\u001b[38;5;241m.\u001b[39mfeatures, description, typename_mapping)\n",
      "File \u001b[0;32m/Applications/miniconda3/envs/fire/lib/python3.12/site-packages/google/protobuf/message.py:202\u001b[0m, in \u001b[0;36mMessage.ParseFromString\u001b[0;34m(self, serialized)\u001b[0m\n\u001b[1;32m    194\u001b[0m \u001b[38;5;250m\u001b[39m\u001b[38;5;124;03m\"\"\"Parse serialized protocol buffer data into this message.\u001b[39;00m\n\u001b[1;32m    195\u001b[0m \n\u001b[1;32m    196\u001b[0m \u001b[38;5;124;03mLike :func:`MergeFromString()`, except we clear the object first.\u001b[39;00m\n\u001b[0;32m   (...)\u001b[0m\n\u001b[1;32m    199\u001b[0m \u001b[38;5;124;03m  message.DecodeError if the input cannot be parsed.\u001b[39;00m\n\u001b[1;32m    200\u001b[0m \u001b[38;5;124;03m\"\"\"\u001b[39;00m\n\u001b[1;32m    201\u001b[0m \u001b[38;5;28mself\u001b[39m\u001b[38;5;241m.\u001b[39mClear()\n\u001b[0;32m--> 202\u001b[0m \u001b[38;5;28;01mreturn\u001b[39;00m \u001b[38;5;28mself\u001b[39m\u001b[38;5;241m.\u001b[39mMergeFromString(serialized)\n",
      "File \u001b[0;32m/Applications/miniconda3/envs/fire/lib/python3.12/site-packages/google/protobuf/internal/python_message.py:1128\u001b[0m, in \u001b[0;36m_AddMergeFromStringMethod.<locals>.MergeFromString\u001b[0;34m(self, serialized)\u001b[0m\n\u001b[1;32m   1126\u001b[0m length \u001b[38;5;241m=\u001b[39m \u001b[38;5;28mlen\u001b[39m(serialized)\n\u001b[1;32m   1127\u001b[0m \u001b[38;5;28;01mtry\u001b[39;00m:\n\u001b[0;32m-> 1128\u001b[0m   \u001b[38;5;28;01mif\u001b[39;00m \u001b[38;5;28mself\u001b[39m\u001b[38;5;241m.\u001b[39m_InternalParse(serialized, \u001b[38;5;241m0\u001b[39m, length) \u001b[38;5;241m!=\u001b[39m length:\n\u001b[1;32m   1129\u001b[0m     \u001b[38;5;66;03m# The only reason _InternalParse would return early is if it\u001b[39;00m\n\u001b[1;32m   1130\u001b[0m     \u001b[38;5;66;03m# encountered an end-group tag.\u001b[39;00m\n\u001b[1;32m   1131\u001b[0m     \u001b[38;5;28;01mraise\u001b[39;00m message_mod\u001b[38;5;241m.\u001b[39mDecodeError(\u001b[38;5;124m'\u001b[39m\u001b[38;5;124mUnexpected end-group tag.\u001b[39m\u001b[38;5;124m'\u001b[39m)\n\u001b[1;32m   1132\u001b[0m \u001b[38;5;28;01mexcept\u001b[39;00m (\u001b[38;5;167;01mIndexError\u001b[39;00m, \u001b[38;5;167;01mTypeError\u001b[39;00m):\n\u001b[1;32m   1133\u001b[0m   \u001b[38;5;66;03m# Now ord(buf[p:p+1]) == ord('') gets TypeError.\u001b[39;00m\n",
      "File \u001b[0;32m/Applications/miniconda3/envs/fire/lib/python3.12/site-packages/google/protobuf/internal/python_message.py:1195\u001b[0m, in \u001b[0;36m_AddMergeFromStringMethod.<locals>.InternalParse\u001b[0;34m(self, buffer, pos, end)\u001b[0m\n\u001b[1;32m   1193\u001b[0m   pos \u001b[38;5;241m=\u001b[39m new_pos\n\u001b[1;32m   1194\u001b[0m \u001b[38;5;28;01melse\u001b[39;00m:\n\u001b[0;32m-> 1195\u001b[0m   pos \u001b[38;5;241m=\u001b[39m field_decoder(buffer, new_pos, end, \u001b[38;5;28mself\u001b[39m, field_dict)\n\u001b[1;32m   1196\u001b[0m   \u001b[38;5;28;01mif\u001b[39;00m field_desc:\n\u001b[1;32m   1197\u001b[0m     \u001b[38;5;28mself\u001b[39m\u001b[38;5;241m.\u001b[39m_UpdateOneofState(field_desc)\n",
      "File \u001b[0;32m/Applications/miniconda3/envs/fire/lib/python3.12/site-packages/google/protobuf/internal/decoder.py:726\u001b[0m, in \u001b[0;36mMessageDecoder.<locals>.DecodeField\u001b[0;34m(buffer, pos, end, message, field_dict)\u001b[0m\n\u001b[1;32m    724\u001b[0m   \u001b[38;5;28;01mraise\u001b[39;00m _DecodeError(\u001b[38;5;124m'\u001b[39m\u001b[38;5;124mTruncated message.\u001b[39m\u001b[38;5;124m'\u001b[39m)\n\u001b[1;32m    725\u001b[0m \u001b[38;5;66;03m# Read sub-message.\u001b[39;00m\n\u001b[0;32m--> 726\u001b[0m \u001b[38;5;28;01mif\u001b[39;00m value\u001b[38;5;241m.\u001b[39m_InternalParse(buffer, pos, new_pos) \u001b[38;5;241m!=\u001b[39m new_pos:\n\u001b[1;32m    727\u001b[0m   \u001b[38;5;66;03m# The only reason _InternalParse would return early is if it encountered\u001b[39;00m\n\u001b[1;32m    728\u001b[0m   \u001b[38;5;66;03m# an end-group tag.\u001b[39;00m\n\u001b[1;32m    729\u001b[0m   \u001b[38;5;28;01mraise\u001b[39;00m _DecodeError(\u001b[38;5;124m'\u001b[39m\u001b[38;5;124mUnexpected end-group tag.\u001b[39m\u001b[38;5;124m'\u001b[39m)\n\u001b[1;32m    730\u001b[0m \u001b[38;5;28;01mreturn\u001b[39;00m new_pos\n",
      "File \u001b[0;32m/Applications/miniconda3/envs/fire/lib/python3.12/site-packages/google/protobuf/internal/python_message.py:1195\u001b[0m, in \u001b[0;36m_AddMergeFromStringMethod.<locals>.InternalParse\u001b[0;34m(self, buffer, pos, end)\u001b[0m\n\u001b[1;32m   1193\u001b[0m   pos \u001b[38;5;241m=\u001b[39m new_pos\n\u001b[1;32m   1194\u001b[0m \u001b[38;5;28;01melse\u001b[39;00m:\n\u001b[0;32m-> 1195\u001b[0m   pos \u001b[38;5;241m=\u001b[39m field_decoder(buffer, new_pos, end, \u001b[38;5;28mself\u001b[39m, field_dict)\n\u001b[1;32m   1196\u001b[0m   \u001b[38;5;28;01mif\u001b[39;00m field_desc:\n\u001b[1;32m   1197\u001b[0m     \u001b[38;5;28mself\u001b[39m\u001b[38;5;241m.\u001b[39m_UpdateOneofState(field_desc)\n",
      "File \u001b[0;32m/Applications/miniconda3/envs/fire/lib/python3.12/site-packages/google/protobuf/internal/decoder.py:860\u001b[0m, in \u001b[0;36mMapDecoder.<locals>.DecodeMap\u001b[0;34m(buffer, pos, end, message, field_dict)\u001b[0m\n\u001b[1;32m    858\u001b[0m \u001b[38;5;66;03m# Read sub-message.\u001b[39;00m\n\u001b[1;32m    859\u001b[0m submsg\u001b[38;5;241m.\u001b[39mClear()\n\u001b[0;32m--> 860\u001b[0m \u001b[38;5;28;01mif\u001b[39;00m submsg\u001b[38;5;241m.\u001b[39m_InternalParse(buffer, pos, new_pos) \u001b[38;5;241m!=\u001b[39m new_pos:\n\u001b[1;32m    861\u001b[0m   \u001b[38;5;66;03m# The only reason _InternalParse would return early is if it\u001b[39;00m\n\u001b[1;32m    862\u001b[0m   \u001b[38;5;66;03m# encountered an end-group tag.\u001b[39;00m\n\u001b[1;32m    863\u001b[0m   \u001b[38;5;28;01mraise\u001b[39;00m _DecodeError(\u001b[38;5;124m'\u001b[39m\u001b[38;5;124mUnexpected end-group tag.\u001b[39m\u001b[38;5;124m'\u001b[39m)\n\u001b[1;32m    865\u001b[0m \u001b[38;5;28;01mif\u001b[39;00m is_message_map:\n",
      "File \u001b[0;32m/Applications/miniconda3/envs/fire/lib/python3.12/site-packages/google/protobuf/internal/python_message.py:1195\u001b[0m, in \u001b[0;36m_AddMergeFromStringMethod.<locals>.InternalParse\u001b[0;34m(self, buffer, pos, end)\u001b[0m\n\u001b[1;32m   1193\u001b[0m   pos \u001b[38;5;241m=\u001b[39m new_pos\n\u001b[1;32m   1194\u001b[0m \u001b[38;5;28;01melse\u001b[39;00m:\n\u001b[0;32m-> 1195\u001b[0m   pos \u001b[38;5;241m=\u001b[39m field_decoder(buffer, new_pos, end, \u001b[38;5;28mself\u001b[39m, field_dict)\n\u001b[1;32m   1196\u001b[0m   \u001b[38;5;28;01mif\u001b[39;00m field_desc:\n\u001b[1;32m   1197\u001b[0m     \u001b[38;5;28mself\u001b[39m\u001b[38;5;241m.\u001b[39m_UpdateOneofState(field_desc)\n",
      "File \u001b[0;32m/Applications/miniconda3/envs/fire/lib/python3.12/site-packages/google/protobuf/internal/decoder.py:726\u001b[0m, in \u001b[0;36mMessageDecoder.<locals>.DecodeField\u001b[0;34m(buffer, pos, end, message, field_dict)\u001b[0m\n\u001b[1;32m    724\u001b[0m   \u001b[38;5;28;01mraise\u001b[39;00m _DecodeError(\u001b[38;5;124m'\u001b[39m\u001b[38;5;124mTruncated message.\u001b[39m\u001b[38;5;124m'\u001b[39m)\n\u001b[1;32m    725\u001b[0m \u001b[38;5;66;03m# Read sub-message.\u001b[39;00m\n\u001b[0;32m--> 726\u001b[0m \u001b[38;5;28;01mif\u001b[39;00m value\u001b[38;5;241m.\u001b[39m_InternalParse(buffer, pos, new_pos) \u001b[38;5;241m!=\u001b[39m new_pos:\n\u001b[1;32m    727\u001b[0m   \u001b[38;5;66;03m# The only reason _InternalParse would return early is if it encountered\u001b[39;00m\n\u001b[1;32m    728\u001b[0m   \u001b[38;5;66;03m# an end-group tag.\u001b[39;00m\n\u001b[1;32m    729\u001b[0m   \u001b[38;5;28;01mraise\u001b[39;00m _DecodeError(\u001b[38;5;124m'\u001b[39m\u001b[38;5;124mUnexpected end-group tag.\u001b[39m\u001b[38;5;124m'\u001b[39m)\n\u001b[1;32m    730\u001b[0m \u001b[38;5;28;01mreturn\u001b[39;00m new_pos\n",
      "File \u001b[0;32m/Applications/miniconda3/envs/fire/lib/python3.12/site-packages/google/protobuf/internal/python_message.py:1195\u001b[0m, in \u001b[0;36m_AddMergeFromStringMethod.<locals>.InternalParse\u001b[0;34m(self, buffer, pos, end)\u001b[0m\n\u001b[1;32m   1193\u001b[0m   pos \u001b[38;5;241m=\u001b[39m new_pos\n\u001b[1;32m   1194\u001b[0m \u001b[38;5;28;01melse\u001b[39;00m:\n\u001b[0;32m-> 1195\u001b[0m   pos \u001b[38;5;241m=\u001b[39m field_decoder(buffer, new_pos, end, \u001b[38;5;28mself\u001b[39m, field_dict)\n\u001b[1;32m   1196\u001b[0m   \u001b[38;5;28;01mif\u001b[39;00m field_desc:\n\u001b[1;32m   1197\u001b[0m     \u001b[38;5;28mself\u001b[39m\u001b[38;5;241m.\u001b[39m_UpdateOneofState(field_desc)\n",
      "File \u001b[0;32m/Applications/miniconda3/envs/fire/lib/python3.12/site-packages/google/protobuf/internal/decoder.py:726\u001b[0m, in \u001b[0;36mMessageDecoder.<locals>.DecodeField\u001b[0;34m(buffer, pos, end, message, field_dict)\u001b[0m\n\u001b[1;32m    724\u001b[0m   \u001b[38;5;28;01mraise\u001b[39;00m _DecodeError(\u001b[38;5;124m'\u001b[39m\u001b[38;5;124mTruncated message.\u001b[39m\u001b[38;5;124m'\u001b[39m)\n\u001b[1;32m    725\u001b[0m \u001b[38;5;66;03m# Read sub-message.\u001b[39;00m\n\u001b[0;32m--> 726\u001b[0m \u001b[38;5;28;01mif\u001b[39;00m value\u001b[38;5;241m.\u001b[39m_InternalParse(buffer, pos, new_pos) \u001b[38;5;241m!=\u001b[39m new_pos:\n\u001b[1;32m    727\u001b[0m   \u001b[38;5;66;03m# The only reason _InternalParse would return early is if it encountered\u001b[39;00m\n\u001b[1;32m    728\u001b[0m   \u001b[38;5;66;03m# an end-group tag.\u001b[39;00m\n\u001b[1;32m    729\u001b[0m   \u001b[38;5;28;01mraise\u001b[39;00m _DecodeError(\u001b[38;5;124m'\u001b[39m\u001b[38;5;124mUnexpected end-group tag.\u001b[39m\u001b[38;5;124m'\u001b[39m)\n\u001b[1;32m    730\u001b[0m \u001b[38;5;28;01mreturn\u001b[39;00m new_pos\n",
      "File \u001b[0;32m/Applications/miniconda3/envs/fire/lib/python3.12/site-packages/google/protobuf/internal/python_message.py:1195\u001b[0m, in \u001b[0;36m_AddMergeFromStringMethod.<locals>.InternalParse\u001b[0;34m(self, buffer, pos, end)\u001b[0m\n\u001b[1;32m   1193\u001b[0m   pos \u001b[38;5;241m=\u001b[39m new_pos\n\u001b[1;32m   1194\u001b[0m \u001b[38;5;28;01melse\u001b[39;00m:\n\u001b[0;32m-> 1195\u001b[0m   pos \u001b[38;5;241m=\u001b[39m field_decoder(buffer, new_pos, end, \u001b[38;5;28mself\u001b[39m, field_dict)\n\u001b[1;32m   1196\u001b[0m   \u001b[38;5;28;01mif\u001b[39;00m field_desc:\n\u001b[1;32m   1197\u001b[0m     \u001b[38;5;28mself\u001b[39m\u001b[38;5;241m.\u001b[39m_UpdateOneofState(field_desc)\n",
      "File \u001b[0;32m/Applications/miniconda3/envs/fire/lib/python3.12/site-packages/google/protobuf/internal/decoder.py:207\u001b[0m, in \u001b[0;36m_SimpleDecoder.<locals>.SpecificDecoder.<locals>.DecodePackedField\u001b[0;34m(buffer, pos, end, message, field_dict)\u001b[0m\n\u001b[1;32m    205\u001b[0m   \u001b[38;5;28;01mraise\u001b[39;00m _DecodeError(\u001b[38;5;124m'\u001b[39m\u001b[38;5;124mTruncated message.\u001b[39m\u001b[38;5;124m'\u001b[39m)\n\u001b[1;32m    206\u001b[0m \u001b[38;5;28;01mwhile\u001b[39;00m pos \u001b[38;5;241m<\u001b[39m endpoint:\n\u001b[0;32m--> 207\u001b[0m   (element, pos) \u001b[38;5;241m=\u001b[39m decode_value(buffer, pos)\n\u001b[1;32m    208\u001b[0m   value\u001b[38;5;241m.\u001b[39mappend(element)\n\u001b[1;32m    209\u001b[0m \u001b[38;5;28;01mif\u001b[39;00m pos \u001b[38;5;241m>\u001b[39m endpoint:\n",
      "File \u001b[0;32m/Applications/miniconda3/envs/fire/lib/python3.12/site-packages/google/protobuf/internal/decoder.py:327\u001b[0m, in \u001b[0;36m_FloatDecoder.<locals>.InnerDecode\u001b[0;34m(buffer, pos)\u001b[0m\n\u001b[1;32m    322\u001b[0m   \u001b[38;5;28;01mreturn\u001b[39;00m (math\u001b[38;5;241m.\u001b[39minf, new_pos)\n\u001b[1;32m    324\u001b[0m \u001b[38;5;66;03m# Note that we expect someone up-stack to catch struct.error and convert\u001b[39;00m\n\u001b[1;32m    325\u001b[0m \u001b[38;5;66;03m# it to _DecodeError -- this way we don't have to set up exception-\u001b[39;00m\n\u001b[1;32m    326\u001b[0m \u001b[38;5;66;03m# handling blocks every time we parse one value.\u001b[39;00m\n\u001b[0;32m--> 327\u001b[0m result \u001b[38;5;241m=\u001b[39m local_unpack(\u001b[38;5;124m'\u001b[39m\u001b[38;5;124m<f\u001b[39m\u001b[38;5;124m'\u001b[39m, float_bytes)[\u001b[38;5;241m0\u001b[39m]\n\u001b[1;32m    328\u001b[0m \u001b[38;5;28;01mreturn\u001b[39;00m (result, new_pos)\n",
      "\u001b[0;31mKeyboardInterrupt\u001b[0m: "
     ]
    }
   ],
   "source": [
    "exp.train()"
   ]
  }
 ],
 "metadata": {
  "kernelspec": {
   "display_name": "Python 3 (ipykernel)",
   "language": "python",
   "name": "python3"
  },
  "language_info": {
   "codemirror_mode": {
    "name": "ipython",
    "version": 3
   },
   "file_extension": ".py",
   "mimetype": "text/x-python",
   "name": "python",
   "nbconvert_exporter": "python",
   "pygments_lexer": "ipython3",
   "version": "3.12.4"
  }
 },
 "nbformat": 4,
 "nbformat_minor": 5
}
